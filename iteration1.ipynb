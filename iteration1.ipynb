{
 "cells": [
  {
   "cell_type": "markdown",
   "id": "21932f78-932a-47ae-a284-4b75e12147d6",
   "metadata": {},
   "source": [
    "# Data Science Iteration 1 - Team 15 (Group 4 INT-A)"
   ]
  },
  {
   "cell_type": "code",
   "execution_count": 11,
   "id": "c21c3daf-fb4f-47a1-b689-1c21a8ca27ff",
   "metadata": {},
   "outputs": [],
   "source": [
    "import pandas as pd\n",
    "import numpy as np\n",
    "import matplotlib.pyplot as plt\n",
    "from sklearn.model_selection import train_test_split\n",
    "from sklearn.metrics import mean_absolute_error\n",
    "from sklearn.metrics import median_absolute_error\n",
    "from sklearn.metrics import mean_squared_error"
   ]
  },
  {
   "cell_type": "code",
   "execution_count": 12,
   "id": "777a912b-9da3-4ab3-b271-b30f7e50a39b",
   "metadata": {},
   "outputs": [],
   "source": [
    "df = pd.read_csv('set15_it1.csv')"
   ]
  },
  {
   "cell_type": "code",
   "execution_count": 13,
   "id": "724af0c9-b501-412d-9f23-478d61038b64",
   "metadata": {},
   "outputs": [
    {
     "data": {
      "text/html": [
       "<div>\n",
       "<style scoped>\n",
       "    .dataframe tbody tr th:only-of-type {\n",
       "        vertical-align: middle;\n",
       "    }\n",
       "\n",
       "    .dataframe tbody tr th {\n",
       "        vertical-align: top;\n",
       "    }\n",
       "\n",
       "    .dataframe thead th {\n",
       "        text-align: right;\n",
       "    }\n",
       "</style>\n",
       "<table border=\"1\" class=\"dataframe\">\n",
       "  <thead>\n",
       "    <tr style=\"text-align: right;\">\n",
       "      <th></th>\n",
       "      <th>DI</th>\n",
       "      <th>TradeValue</th>\n",
       "      <th>RealmType</th>\n",
       "      <th>Enclave</th>\n",
       "      <th>LivingQuarters</th>\n",
       "      <th>ParcelSize</th>\n",
       "      <th>ParcelSizeUnit</th>\n",
       "    </tr>\n",
       "  </thead>\n",
       "  <tbody>\n",
       "    <tr>\n",
       "      <th>0</th>\n",
       "      <td>0</td>\n",
       "      <td>149500.0</td>\n",
       "      <td>Meadowlands</td>\n",
       "      <td>Dragonspire</td>\n",
       "      <td>1157.0</td>\n",
       "      <td>12160.0</td>\n",
       "      <td>sqft</td>\n",
       "    </tr>\n",
       "    <tr>\n",
       "      <th>1</th>\n",
       "      <td>1</td>\n",
       "      <td>105000.0</td>\n",
       "      <td>GnomeBurough</td>\n",
       "      <td>Petalbridge</td>\n",
       "      <td>772.0</td>\n",
       "      <td>3960.0</td>\n",
       "      <td>sqft</td>\n",
       "    </tr>\n",
       "    <tr>\n",
       "      <th>2</th>\n",
       "      <td>2</td>\n",
       "      <td>79275.0</td>\n",
       "      <td>Meadowlands</td>\n",
       "      <td>Shadowmere</td>\n",
       "      <td>664.0</td>\n",
       "      <td>8172.0</td>\n",
       "      <td>sqft</td>\n",
       "    </tr>\n",
       "    <tr>\n",
       "      <th>3</th>\n",
       "      <td>3</td>\n",
       "      <td>140000.0</td>\n",
       "      <td>Meadowlands</td>\n",
       "      <td>Emberfall</td>\n",
       "      <td>1231.0</td>\n",
       "      <td>13825.0</td>\n",
       "      <td>sqft</td>\n",
       "    </tr>\n",
       "    <tr>\n",
       "      <th>4</th>\n",
       "      <td>4</td>\n",
       "      <td>150909.0</td>\n",
       "      <td>GnomeBurough</td>\n",
       "      <td>Mystvale</td>\n",
       "      <td>1406.0</td>\n",
       "      <td>9060.0</td>\n",
       "      <td>sqft</td>\n",
       "    </tr>\n",
       "    <tr>\n",
       "      <th>...</th>\n",
       "      <td>...</td>\n",
       "      <td>...</td>\n",
       "      <td>...</td>\n",
       "      <td>...</td>\n",
       "      <td>...</td>\n",
       "      <td>...</td>\n",
       "      <td>...</td>\n",
       "    </tr>\n",
       "    <tr>\n",
       "      <th>2358</th>\n",
       "      <td>2335</td>\n",
       "      <td>184500.0</td>\n",
       "      <td>Meadowlands</td>\n",
       "      <td>Duskwood</td>\n",
       "      <td>1056.0</td>\n",
       "      <td>13300.0</td>\n",
       "      <td>sqft</td>\n",
       "    </tr>\n",
       "    <tr>\n",
       "      <th>2359</th>\n",
       "      <td>2336</td>\n",
       "      <td>210000.0</td>\n",
       "      <td>Meadowlands</td>\n",
       "      <td>Nighthaven</td>\n",
       "      <td>1594.0</td>\n",
       "      <td>13175.0</td>\n",
       "      <td>sqft</td>\n",
       "    </tr>\n",
       "    <tr>\n",
       "      <th>2360</th>\n",
       "      <td>2337</td>\n",
       "      <td>223500.0</td>\n",
       "      <td>Meadowlands</td>\n",
       "      <td>Stormwatch</td>\n",
       "      <td>1212.0</td>\n",
       "      <td>21384.0</td>\n",
       "      <td>sqft</td>\n",
       "    </tr>\n",
       "    <tr>\n",
       "      <th>2361</th>\n",
       "      <td>2338</td>\n",
       "      <td>129900.0</td>\n",
       "      <td>Meadowlands</td>\n",
       "      <td>Dragonspire</td>\n",
       "      <td>627.0</td>\n",
       "      <td>7100.0</td>\n",
       "      <td>sqft</td>\n",
       "    </tr>\n",
       "    <tr>\n",
       "      <th>2362</th>\n",
       "      <td>2339</td>\n",
       "      <td>84500.0</td>\n",
       "      <td>GnomeBurough</td>\n",
       "      <td>Mystvale</td>\n",
       "      <td>579.0</td>\n",
       "      <td>6780.0</td>\n",
       "      <td>sqft</td>\n",
       "    </tr>\n",
       "  </tbody>\n",
       "</table>\n",
       "<p>2363 rows × 7 columns</p>\n",
       "</div>"
      ],
      "text/plain": [
       "        DI  TradeValue     RealmType      Enclave  LivingQuarters  ParcelSize  \\\n",
       "0        0    149500.0   Meadowlands  Dragonspire          1157.0     12160.0   \n",
       "1        1    105000.0  GnomeBurough  Petalbridge           772.0      3960.0   \n",
       "2        2     79275.0   Meadowlands   Shadowmere           664.0      8172.0   \n",
       "3        3    140000.0   Meadowlands    Emberfall          1231.0     13825.0   \n",
       "4        4    150909.0  GnomeBurough     Mystvale          1406.0      9060.0   \n",
       "...    ...         ...           ...          ...             ...         ...   \n",
       "2358  2335    184500.0   Meadowlands     Duskwood          1056.0     13300.0   \n",
       "2359  2336    210000.0   Meadowlands   Nighthaven          1594.0     13175.0   \n",
       "2360  2337    223500.0   Meadowlands   Stormwatch          1212.0     21384.0   \n",
       "2361  2338    129900.0   Meadowlands  Dragonspire           627.0      7100.0   \n",
       "2362  2339     84500.0  GnomeBurough     Mystvale           579.0      6780.0   \n",
       "\n",
       "     ParcelSizeUnit  \n",
       "0              sqft  \n",
       "1              sqft  \n",
       "2              sqft  \n",
       "3              sqft  \n",
       "4              sqft  \n",
       "...             ...  \n",
       "2358           sqft  \n",
       "2359           sqft  \n",
       "2360           sqft  \n",
       "2361           sqft  \n",
       "2362           sqft  \n",
       "\n",
       "[2363 rows x 7 columns]"
      ]
     },
     "execution_count": 13,
     "metadata": {},
     "output_type": "execute_result"
    }
   ],
   "source": [
    "df"
   ]
  },
  {
   "cell_type": "markdown",
   "id": "6887c341-d296-4f99-b4c7-f3a622d24bec",
   "metadata": {},
   "source": [
    "## 1. Data Understanding"
   ]
  },
  {
   "cell_type": "code",
   "execution_count": 15,
   "id": "8d21c8ff-4720-4611-a1d4-8be56f10dc89",
   "metadata": {},
   "outputs": [
    {
     "name": "stdout",
     "output_type": "stream",
     "text": [
      "<class 'pandas.core.frame.DataFrame'>\n",
      "RangeIndex: 2363 entries, 0 to 2362\n",
      "Data columns (total 7 columns):\n",
      " #   Column          Non-Null Count  Dtype  \n",
      "---  ------          --------------  -----  \n",
      " 0   DI              2363 non-null   int64  \n",
      " 1   TradeValue      2363 non-null   float64\n",
      " 2   RealmType       2363 non-null   object \n",
      " 3   Enclave         2363 non-null   object \n",
      " 4   LivingQuarters  2245 non-null   float64\n",
      " 5   ParcelSize      2363 non-null   float64\n",
      " 6   ParcelSizeUnit  2363 non-null   object \n",
      "dtypes: float64(3), int64(1), object(3)\n",
      "memory usage: 129.4+ KB\n"
     ]
    }
   ],
   "source": [
    "df.info()"
   ]
  },
  {
   "cell_type": "code",
   "execution_count": 16,
   "id": "519e6b22-4097-47c0-b6d9-a5c3b77e99ad",
   "metadata": {
    "scrolled": true
   },
   "outputs": [
    {
     "data": {
      "text/html": [
       "<div>\n",
       "<style scoped>\n",
       "    .dataframe tbody tr th:only-of-type {\n",
       "        vertical-align: middle;\n",
       "    }\n",
       "\n",
       "    .dataframe tbody tr th {\n",
       "        vertical-align: top;\n",
       "    }\n",
       "\n",
       "    .dataframe thead th {\n",
       "        text-align: right;\n",
       "    }\n",
       "</style>\n",
       "<table border=\"1\" class=\"dataframe\">\n",
       "  <thead>\n",
       "    <tr style=\"text-align: right;\">\n",
       "      <th></th>\n",
       "      <th>DI</th>\n",
       "      <th>TradeValue</th>\n",
       "      <th>LivingQuarters</th>\n",
       "      <th>ParcelSize</th>\n",
       "    </tr>\n",
       "  </thead>\n",
       "  <tbody>\n",
       "    <tr>\n",
       "      <th>count</th>\n",
       "      <td>2363.000000</td>\n",
       "      <td>2363.000000</td>\n",
       "      <td>2245.000000</td>\n",
       "      <td>2363.000000</td>\n",
       "    </tr>\n",
       "    <tr>\n",
       "      <th>mean</th>\n",
       "      <td>1169.813796</td>\n",
       "      <td>181150.568007</td>\n",
       "      <td>1157.071715</td>\n",
       "      <td>9889.801684</td>\n",
       "    </tr>\n",
       "    <tr>\n",
       "      <th>std</th>\n",
       "      <td>675.447687</td>\n",
       "      <td>82165.603916</td>\n",
       "      <td>392.780821</td>\n",
       "      <td>7954.890245</td>\n",
       "    </tr>\n",
       "    <tr>\n",
       "      <th>min</th>\n",
       "      <td>0.000000</td>\n",
       "      <td>61.500000</td>\n",
       "      <td>256.000000</td>\n",
       "      <td>-19378.000000</td>\n",
       "    </tr>\n",
       "    <tr>\n",
       "      <th>25%</th>\n",
       "      <td>584.500000</td>\n",
       "      <td>129825.000000</td>\n",
       "      <td>871.000000</td>\n",
       "      <td>7243.000000</td>\n",
       "    </tr>\n",
       "    <tr>\n",
       "      <th>50%</th>\n",
       "      <td>1170.000000</td>\n",
       "      <td>160000.000000</td>\n",
       "      <td>1116.000000</td>\n",
       "      <td>9320.000000</td>\n",
       "    </tr>\n",
       "    <tr>\n",
       "      <th>75%</th>\n",
       "      <td>1753.500000</td>\n",
       "      <td>213000.000000</td>\n",
       "      <td>1341.000000</td>\n",
       "      <td>11475.000000</td>\n",
       "    </tr>\n",
       "    <tr>\n",
       "      <th>max</th>\n",
       "      <td>2339.000000</td>\n",
       "      <td>755000.000000</td>\n",
       "      <td>4339.000000</td>\n",
       "      <td>164660.000000</td>\n",
       "    </tr>\n",
       "  </tbody>\n",
       "</table>\n",
       "</div>"
      ],
      "text/plain": [
       "                DI     TradeValue  LivingQuarters     ParcelSize\n",
       "count  2363.000000    2363.000000     2245.000000    2363.000000\n",
       "mean   1169.813796  181150.568007     1157.071715    9889.801684\n",
       "std     675.447687   82165.603916      392.780821    7954.890245\n",
       "min       0.000000      61.500000      256.000000  -19378.000000\n",
       "25%     584.500000  129825.000000      871.000000    7243.000000\n",
       "50%    1170.000000  160000.000000     1116.000000    9320.000000\n",
       "75%    1753.500000  213000.000000     1341.000000   11475.000000\n",
       "max    2339.000000  755000.000000     4339.000000  164660.000000"
      ]
     },
     "execution_count": 16,
     "metadata": {},
     "output_type": "execute_result"
    }
   ],
   "source": [
    "df.describe()"
   ]
  },
  {
   "cell_type": "markdown",
   "id": "02bdcfcc-c8eb-4ea9-92d1-1c5599045736",
   "metadata": {},
   "source": [
    "### 1.1 Boxplots for TradeValue & ParcelSize"
   ]
  },
  {
   "cell_type": "markdown",
   "id": "3793786c-1c7b-4743-adf5-2dace4afd9e9",
   "metadata": {},
   "source": [
    "In the boxplot below you can see that in the TradeValue column there are very high outliers present. "
   ]
  },
  {
   "cell_type": "code",
   "execution_count": 23,
   "id": "5fcca3f7-6eac-4c91-9e0c-ccda17031fee",
   "metadata": {},
   "outputs": [
    {
     "data": {
      "image/png": "[encoded data removed]",
      "text/plain": [
       "<Figure size 640x480 with 1 Axes>"
      ]
     },
     "metadata": {},
     "output_type": "display_data"
    }
   ],
   "source": [
    "plt.boxplot(x=df['TradeValue'].dropna())\n",
    "plt.title('All trade values')\n",
    "plt.ylabel('Trade Value in gold coins')\n",
    "plt.show()"
   ]
  },
  {
   "cell_type": "markdown",
   "id": "0af7258a-297a-4472-9850-bfc4149323e6",
   "metadata": {},
   "source": [
    "In the ParcelSize column there are also very high outliers, as can be seen in the boxplot below."
   ]
  },
  {
   "cell_type": "code",
   "execution_count": 25,
   "id": "b8efe1b2-943d-4999-af05-a390a7556955",
   "metadata": {},
   "outputs": [
    {
     "data": {
      "image/png": "[encoded data removed]",
      "text/plain": [
       "<Figure size 640x480 with 1 Axes>"
      ]
     },
     "metadata": {},
     "output_type": "display_data"
    }
   ],
   "source": [
    "plt.boxplot(x=df['ParcelSize'].dropna())\n",
    "plt.title('All Parcel sizes')\n",
    "plt.ylabel('Parcel Sizes in sqft/sqm')\n",
    "plt.show()"
   ]
  },
  {
   "cell_type": "markdown",
   "id": "de57bdae-1476-48c6-a709-12e0e9ffc8d3",
   "metadata": {},
   "source": [
    "### 1.2 Histogram for TradeValue"
   ]
  },
  {
   "cell_type": "markdown",
   "id": "632c14c7-4ae7-4f09-adc9-ecd2800c9570",
   "metadata": {},
   "source": [
    "In the histogram below you can see that the trade values are positively skewed. There are some very high outliers visible."
   ]
  },
  {
   "cell_type": "code",
   "execution_count": 28,
   "id": "f3bc4c89-a49f-4145-a0c1-47536c367398",
   "metadata": {
    "scrolled": true
   },
   "outputs": [
    {
     "data": {
      "image/png": "[encoded data removed]",
      "text/plain": [
       "<Figure size 640x480 with 1 Axes>"
      ]
     },
     "metadata": {},
     "output_type": "display_data"
    }
   ],
   "source": [
    "plt.hist(df[\"TradeValue\"], bins=50)\n",
    "plt.title('All trade values')\n",
    "plt.xlabel('Trade Value in gold coins')\n",
    "plt.ylabel('Number of occurrances in dataset')\n",
    "plt.show()"
   ]
  },
  {
   "cell_type": "markdown",
   "id": "535eca4c-d2c6-4377-82d4-e4fc2f83c528",
   "metadata": {},
   "source": [
    "### 1.3 Checking for data quality issues within the dataset"
   ]
  },
  {
   "cell_type": "markdown",
   "id": "fbba5062-88e3-4c32-a911-4cf0c9ea83f8",
   "metadata": {},
   "source": [
    "As you can see in the sample of our dataframe below, there is a row which has NAN instead of a number in the LivingQuarter column."
   ]
  },
  {
   "cell_type": "code",
   "execution_count": 116,
   "id": "517a9763-b5d7-40fb-bcc6-057d7fd210d5",
   "metadata": {},
   "outputs": [
    {
     "data": {
      "text/html": [
       "<div>\n",
       "<style scoped>\n",
       "    .dataframe tbody tr th:only-of-type {\n",
       "        vertical-align: middle;\n",
       "    }\n",
       "\n",
       "    .dataframe tbody tr th {\n",
       "        vertical-align: top;\n",
       "    }\n",
       "\n",
       "    .dataframe thead th {\n",
       "        text-align: right;\n",
       "    }\n",
       "</style>\n",
       "<table border=\"1\" class=\"dataframe\">\n",
       "  <thead>\n",
       "    <tr style=\"text-align: right;\">\n",
       "      <th></th>\n",
       "      <th>DI</th>\n",
       "      <th>TradeValue</th>\n",
       "      <th>RealmType</th>\n",
       "      <th>Enclave</th>\n",
       "      <th>LivingQuarters</th>\n",
       "      <th>ParcelSize</th>\n",
       "      <th>ParcelSizeUnit</th>\n",
       "    </tr>\n",
       "  </thead>\n",
       "  <tbody>\n",
       "    <tr>\n",
       "      <th>783</th>\n",
       "      <td>775</td>\n",
       "      <td>170000.0</td>\n",
       "      <td>Meadowlands</td>\n",
       "      <td>Duskwood</td>\n",
       "      <td>1056.0</td>\n",
       "      <td>9434.0</td>\n",
       "      <td>sqft</td>\n",
       "    </tr>\n",
       "    <tr>\n",
       "      <th>1156</th>\n",
       "      <td>1145</td>\n",
       "      <td>190000.0</td>\n",
       "      <td>Meadowlands</td>\n",
       "      <td>Dragonspire</td>\n",
       "      <td>1452.0</td>\n",
       "      <td>16492.0</td>\n",
       "      <td>sqft</td>\n",
       "    </tr>\n",
       "    <tr>\n",
       "      <th>1093</th>\n",
       "      <td>1083</td>\n",
       "      <td>86900.0</td>\n",
       "      <td>Meadowlands</td>\n",
       "      <td>Petalbridge</td>\n",
       "      <td>553.0</td>\n",
       "      <td>7008.0</td>\n",
       "      <td>sqft</td>\n",
       "    </tr>\n",
       "    <tr>\n",
       "      <th>2062</th>\n",
       "      <td>2042</td>\n",
       "      <td>83000.0</td>\n",
       "      <td>Meadowlands</td>\n",
       "      <td>Shadowmere</td>\n",
       "      <td>1087.0</td>\n",
       "      <td>8248.0</td>\n",
       "      <td>sqft</td>\n",
       "    </tr>\n",
       "    <tr>\n",
       "      <th>66</th>\n",
       "      <td>65</td>\n",
       "      <td>146000.0</td>\n",
       "      <td>AetherIsles</td>\n",
       "      <td>Wyverncliff</td>\n",
       "      <td>1070.0</td>\n",
       "      <td>3604.0</td>\n",
       "      <td>sqft</td>\n",
       "    </tr>\n",
       "    <tr>\n",
       "      <th>347</th>\n",
       "      <td>345</td>\n",
       "      <td>236500.0</td>\n",
       "      <td>Meadowlands</td>\n",
       "      <td>Thornfield</td>\n",
       "      <td>1459.0</td>\n",
       "      <td>26073.0</td>\n",
       "      <td>sqft</td>\n",
       "    </tr>\n",
       "    <tr>\n",
       "      <th>556</th>\n",
       "      <td>550</td>\n",
       "      <td>200000.0</td>\n",
       "      <td>Meadowlands</td>\n",
       "      <td>Nighthaven</td>\n",
       "      <td>1607.0</td>\n",
       "      <td>10382.0</td>\n",
       "      <td>sqft</td>\n",
       "    </tr>\n",
       "    <tr>\n",
       "      <th>742</th>\n",
       "      <td>734</td>\n",
       "      <td>315000.0</td>\n",
       "      <td>Meadowlands</td>\n",
       "      <td>Thornfield</td>\n",
       "      <td>NaN</td>\n",
       "      <td>18044.0</td>\n",
       "      <td>sqft</td>\n",
       "    </tr>\n",
       "    <tr>\n",
       "      <th>354</th>\n",
       "      <td>352</td>\n",
       "      <td>306000.0</td>\n",
       "      <td>Meadowlands</td>\n",
       "      <td>Silverglen</td>\n",
       "      <td>1310.0</td>\n",
       "      <td>11478.0</td>\n",
       "      <td>sqft</td>\n",
       "    </tr>\n",
       "    <tr>\n",
       "      <th>1907</th>\n",
       "      <td>1888</td>\n",
       "      <td>290000.0</td>\n",
       "      <td>Meadowlands</td>\n",
       "      <td>silverglen</td>\n",
       "      <td>1846.0</td>\n",
       "      <td>13262.0</td>\n",
       "      <td>sqft</td>\n",
       "    </tr>\n",
       "    <tr>\n",
       "      <th>93</th>\n",
       "      <td>92</td>\n",
       "      <td>96000.0</td>\n",
       "      <td>Meadowlands</td>\n",
       "      <td>Shadowmere</td>\n",
       "      <td>1047.0</td>\n",
       "      <td>7550.0</td>\n",
       "      <td>sqft</td>\n",
       "    </tr>\n",
       "    <tr>\n",
       "      <th>2346</th>\n",
       "      <td>2323</td>\n",
       "      <td>222000.0</td>\n",
       "      <td>AetherIsles</td>\n",
       "      <td>Wyverncliff</td>\n",
       "      <td>1136.0</td>\n",
       "      <td>4403.0</td>\n",
       "      <td>sqft</td>\n",
       "    </tr>\n",
       "    <tr>\n",
       "      <th>1889</th>\n",
       "      <td>1870</td>\n",
       "      <td>98000.0</td>\n",
       "      <td>GnomeBurough</td>\n",
       "      <td>Wolfsbane</td>\n",
       "      <td>839.0</td>\n",
       "      <td>1477.0</td>\n",
       "      <td>sqft</td>\n",
       "    </tr>\n",
       "    <tr>\n",
       "      <th>1069</th>\n",
       "      <td>1059</td>\n",
       "      <td>271500.0</td>\n",
       "      <td>AetherIsles</td>\n",
       "      <td>Wyverncliff</td>\n",
       "      <td>1129.0</td>\n",
       "      <td>10440.0</td>\n",
       "      <td>sqft</td>\n",
       "    </tr>\n",
       "    <tr>\n",
       "      <th>1284</th>\n",
       "      <td>1273</td>\n",
       "      <td>129000.0</td>\n",
       "      <td>Meadowlands</td>\n",
       "      <td>Dragonspire</td>\n",
       "      <td>1830.0</td>\n",
       "      <td>18450.0</td>\n",
       "      <td>sqft</td>\n",
       "    </tr>\n",
       "    <tr>\n",
       "      <th>470</th>\n",
       "      <td>467</td>\n",
       "      <td>143000.0</td>\n",
       "      <td>Meadowlands</td>\n",
       "      <td>Crystalhollow</td>\n",
       "      <td>789.0</td>\n",
       "      <td>8410.0</td>\n",
       "      <td>sqft</td>\n",
       "    </tr>\n",
       "    <tr>\n",
       "      <th>2349</th>\n",
       "      <td>2326</td>\n",
       "      <td>265900.0</td>\n",
       "      <td>Meadowlands</td>\n",
       "      <td>Ravenstone</td>\n",
       "      <td>1141.0</td>\n",
       "      <td>9037.0</td>\n",
       "      <td>sqft</td>\n",
       "    </tr>\n",
       "    <tr>\n",
       "      <th>1834</th>\n",
       "      <td>1816</td>\n",
       "      <td>110000.0</td>\n",
       "      <td>Meadowlands</td>\n",
       "      <td>Dragonspire</td>\n",
       "      <td>594.0</td>\n",
       "      <td>7677.0</td>\n",
       "      <td>sqft</td>\n",
       "    </tr>\n",
       "    <tr>\n",
       "      <th>512</th>\n",
       "      <td>508</td>\n",
       "      <td>132000.0</td>\n",
       "      <td>Meadowlands</td>\n",
       "      <td>Dragonspire</td>\n",
       "      <td>941.0</td>\n",
       "      <td>8064.0</td>\n",
       "      <td>sqft</td>\n",
       "    </tr>\n",
       "    <tr>\n",
       "      <th>159</th>\n",
       "      <td>158</td>\n",
       "      <td>113000.0</td>\n",
       "      <td>Meadowlands</td>\n",
       "      <td>Shadowmere</td>\n",
       "      <td>516.0</td>\n",
       "      <td>9340.0</td>\n",
       "      <td>sqft</td>\n",
       "    </tr>\n",
       "    <tr>\n",
       "      <th>2320</th>\n",
       "      <td>2297</td>\n",
       "      <td>163990.0</td>\n",
       "      <td>Meadowlands</td>\n",
       "      <td>Sunspire</td>\n",
       "      <td>1119.0</td>\n",
       "      <td>8461.0</td>\n",
       "      <td>sqft</td>\n",
       "    </tr>\n",
       "    <tr>\n",
       "      <th>2007</th>\n",
       "      <td>1987</td>\n",
       "      <td>76500.0</td>\n",
       "      <td>Meadowlands</td>\n",
       "      <td>Dragonspire</td>\n",
       "      <td>664.0</td>\n",
       "      <td>7038.0</td>\n",
       "      <td>sqft</td>\n",
       "    </tr>\n",
       "    <tr>\n",
       "      <th>1417</th>\n",
       "      <td>1404</td>\n",
       "      <td>88250.0</td>\n",
       "      <td>GnomeBurough</td>\n",
       "      <td>Wolfsbane</td>\n",
       "      <td>839.0</td>\n",
       "      <td>1900.0</td>\n",
       "      <td>sqft</td>\n",
       "    </tr>\n",
       "    <tr>\n",
       "      <th>1552</th>\n",
       "      <td>1537</td>\n",
       "      <td>147900.0</td>\n",
       "      <td>Meadowlands</td>\n",
       "      <td>Sunspire</td>\n",
       "      <td>843.0</td>\n",
       "      <td>16561.0</td>\n",
       "      <td>sqft</td>\n",
       "    </tr>\n",
       "    <tr>\n",
       "      <th>676</th>\n",
       "      <td>668</td>\n",
       "      <td>230348.0</td>\n",
       "      <td>AetherIsles</td>\n",
       "      <td>WYVERNCLIFF</td>\n",
       "      <td>936.0</td>\n",
       "      <td>7500.0</td>\n",
       "      <td>sqft</td>\n",
       "    </tr>\n",
       "    <tr>\n",
       "      <th>1217</th>\n",
       "      <td>1206</td>\n",
       "      <td>235000.0</td>\n",
       "      <td>Meadowlands</td>\n",
       "      <td>Windwhisper</td>\n",
       "      <td>963.0</td>\n",
       "      <td>13500.0</td>\n",
       "      <td>sqft</td>\n",
       "    </tr>\n",
       "    <tr>\n",
       "      <th>400</th>\n",
       "      <td>397</td>\n",
       "      <td>145000.0</td>\n",
       "      <td>CitadelQuarter</td>\n",
       "      <td>Thornfield</td>\n",
       "      <td>1506.0</td>\n",
       "      <td>7136.0</td>\n",
       "      <td>sqft</td>\n",
       "    </tr>\n",
       "    <tr>\n",
       "      <th>1740</th>\n",
       "      <td>1723</td>\n",
       "      <td>148500.0</td>\n",
       "      <td>Meadowlands</td>\n",
       "      <td>Thornfield</td>\n",
       "      <td>844.0</td>\n",
       "      <td>4000.0</td>\n",
       "      <td>sqft</td>\n",
       "    </tr>\n",
       "    <tr>\n",
       "      <th>923</th>\n",
       "      <td>915</td>\n",
       "      <td>170000.0</td>\n",
       "      <td>Meadowlands</td>\n",
       "      <td>Nighthaven</td>\n",
       "      <td>1476.0</td>\n",
       "      <td>10192.0</td>\n",
       "      <td>sqft</td>\n",
       "    </tr>\n",
       "    <tr>\n",
       "      <th>1248</th>\n",
       "      <td>1237</td>\n",
       "      <td>106250.0</td>\n",
       "      <td>Meadowlands</td>\n",
       "      <td>Petalbridge</td>\n",
       "      <td>995.0</td>\n",
       "      <td>10800.0</td>\n",
       "      <td>sqft</td>\n",
       "    </tr>\n",
       "  </tbody>\n",
       "</table>\n",
       "</div>"
      ],
      "text/plain": [
       "        DI  TradeValue       RealmType        Enclave  LivingQuarters  \\\n",
       "783    775    170000.0     Meadowlands       Duskwood          1056.0   \n",
       "1156  1145    190000.0     Meadowlands    Dragonspire          1452.0   \n",
       "1093  1083     86900.0     Meadowlands    Petalbridge           553.0   \n",
       "2062  2042     83000.0     Meadowlands     Shadowmere          1087.0   \n",
       "66      65    146000.0     AetherIsles    Wyverncliff          1070.0   \n",
       "347    345    236500.0     Meadowlands     Thornfield          1459.0   \n",
       "556    550    200000.0     Meadowlands     Nighthaven          1607.0   \n",
       "742    734    315000.0     Meadowlands     Thornfield             NaN   \n",
       "354    352    306000.0     Meadowlands     Silverglen          1310.0   \n",
       "1907  1888    290000.0     Meadowlands     silverglen          1846.0   \n",
       "93      92     96000.0     Meadowlands     Shadowmere          1047.0   \n",
       "2346  2323    222000.0     AetherIsles    Wyverncliff          1136.0   \n",
       "1889  1870     98000.0    GnomeBurough      Wolfsbane           839.0   \n",
       "1069  1059    271500.0     AetherIsles    Wyverncliff          1129.0   \n",
       "1284  1273    129000.0     Meadowlands    Dragonspire          1830.0   \n",
       "470    467    143000.0     Meadowlands  Crystalhollow           789.0   \n",
       "2349  2326    265900.0     Meadowlands     Ravenstone          1141.0   \n",
       "1834  1816    110000.0     Meadowlands    Dragonspire           594.0   \n",
       "512    508    132000.0     Meadowlands    Dragonspire           941.0   \n",
       "159    158    113000.0     Meadowlands     Shadowmere           516.0   \n",
       "2320  2297    163990.0     Meadowlands       Sunspire          1119.0   \n",
       "2007  1987     76500.0     Meadowlands    Dragonspire           664.0   \n",
       "1417  1404     88250.0    GnomeBurough      Wolfsbane           839.0   \n",
       "1552  1537    147900.0     Meadowlands       Sunspire           843.0   \n",
       "676    668    230348.0     AetherIsles    WYVERNCLIFF           936.0   \n",
       "1217  1206    235000.0     Meadowlands    Windwhisper           963.0   \n",
       "400    397    145000.0  CitadelQuarter     Thornfield          1506.0   \n",
       "1740  1723    148500.0     Meadowlands     Thornfield           844.0   \n",
       "923    915    170000.0     Meadowlands     Nighthaven          1476.0   \n",
       "1248  1237    106250.0     Meadowlands    Petalbridge           995.0   \n",
       "\n",
       "      ParcelSize ParcelSizeUnit  \n",
       "783       9434.0           sqft  \n",
       "1156     16492.0           sqft  \n",
       "1093      7008.0           sqft  \n",
       "2062      8248.0           sqft  \n",
       "66        3604.0           sqft  \n",
       "347      26073.0           sqft  \n",
       "556      10382.0           sqft  \n",
       "742      18044.0           sqft  \n",
       "354      11478.0           sqft  \n",
       "1907     13262.0           sqft  \n",
       "93        7550.0           sqft  \n",
       "2346      4403.0           sqft  \n",
       "1889      1477.0           sqft  \n",
       "1069     10440.0           sqft  \n",
       "1284     18450.0           sqft  \n",
       "470       8410.0           sqft  \n",
       "2349      9037.0           sqft  \n",
       "1834      7677.0           sqft  \n",
       "512       8064.0           sqft  \n",
       "159       9340.0           sqft  \n",
       "2320      8461.0           sqft  \n",
       "2007      7038.0           sqft  \n",
       "1417      1900.0           sqft  \n",
       "1552     16561.0           sqft  \n",
       "676       7500.0           sqft  \n",
       "1217     13500.0           sqft  \n",
       "400       7136.0           sqft  \n",
       "1740      4000.0           sqft  \n",
       "923      10192.0           sqft  \n",
       "1248     10800.0           sqft  "
      ]
     },
     "execution_count": 116,
     "metadata": {},
     "output_type": "execute_result"
    }
   ],
   "source": [
    "df.sample(30)"
   ]
  },
  {
   "cell_type": "markdown",
   "id": "8864c8b3-8803-48d1-afcb-e0e58722e760",
   "metadata": {},
   "source": [
    "Below we are checking for cells with the value NAN (not a number), we already knew LivingQuarter had atleast one, so it is good practice to check if there are more columns/rows containing that. "
   ]
  },
  {
   "cell_type": "code",
   "execution_count": 121,
   "id": "1ab45bcc-fced-4239-a52e-a2b166ae55fe",
   "metadata": {},
   "outputs": [
    {
     "data": {
      "text/plain": [
       "DI                  0\n",
       "TradeValue          0\n",
       "RealmType           0\n",
       "Enclave             0\n",
       "LivingQuarters    118\n",
       "ParcelSize          0\n",
       "ParcelSizeUnit      0\n",
       "dtype: int64"
      ]
     },
     "execution_count": 121,
     "metadata": {},
     "output_type": "execute_result"
    }
   ],
   "source": [
    "df.isna().sum()"
   ]
  },
  {
   "cell_type": "markdown",
   "id": "ac7568d5-3228-4607-9c19-0e448d1f7723",
   "metadata": {},
   "source": [
    "Checking for potential duplicates or spelling issues within the realm types or enclaves. As you can see in the enclaves there are quite a few duplicates as can be seen with the value counts. Some enclaves also occur multiple times, but with different spelling. "
   ]
  },
  {
   "cell_type": "code",
   "execution_count": 124,
   "id": "c2e04d32-dbc6-4c19-a4ac-ce9946fb5bb2",
   "metadata": {},
   "outputs": [
    {
     "data": {
      "text/plain": [
       "array(['Meadowlands', 'GnomeBurough', 'AetherIsles', 'ArcaneMarket',\n",
       "       'CitadelQuarter'], dtype=object)"
      ]
     },
     "execution_count": 124,
     "metadata": {},
     "output_type": "execute_result"
    }
   ],
   "source": [
    "df['RealmType'].unique()"
   ]
  },
  {
   "cell_type": "code",
   "execution_count": 126,
   "id": "c45d3ebe-fbe6-4c52-975f-d94357a0d97e",
   "metadata": {},
   "outputs": [
    {
     "data": {
      "text/plain": [
       "RealmType\n",
       "Meadowlands       1838\n",
       "GnomeBurough       376\n",
       "AetherIsles        111\n",
       "ArcaneMarket        19\n",
       "CitadelQuarter      19\n",
       "Name: count, dtype: int64"
      ]
     },
     "execution_count": 126,
     "metadata": {},
     "output_type": "execute_result"
    }
   ],
   "source": [
    "df['RealmType'].value_counts()"
   ]
  },
  {
   "cell_type": "code",
   "execution_count": 128,
   "id": "f260bcb3-e538-4108-8e1c-d92d8d92d236",
   "metadata": {},
   "outputs": [
    {
     "data": {
      "text/plain": [
       "array(['Dragonspire', 'Petalbridge', 'Shadowmere', 'Emberfall',\n",
       "       'Mystvale', 'Nighthaven', 'Crystalhollow', 'Brightforge',\n",
       "       'Wyverncliff', 'Riverbend', 'Starfall', 'Duskwood', 'Sunspire',\n",
       "       'Silverglen', 'Stormwatch', 'Wolfsbane', 'Thornfield',\n",
       "       'Ravenstone', 'Stormhold', 'Dreamweaver', 'Glimmerwood',\n",
       "       'Wolfsbanes', 'Windwhisper', 'Mossheart', 'Moonglade',\n",
       "       'Oakenshade', 'Verdantia', 'DUSKWOOD', 'Crystalhollows',\n",
       "       'cloudrest', 'DRAGONSPIRE', 'dreamweaver', 'Cloudrest',\n",
       "       'SHADOWMERE', 'sunspire', 'dragonspire', 'WYVERNCLIFF',\n",
       "       'PETALBRIDGE', 'Duskwoods', 'windwhisper', 'Brightforges',\n",
       "       'RAVENSTONE', 'silverglen', 'SILVERGLEN', 'petalbridge',\n",
       "       'Shadowmeres', 'crystalhollow'], dtype=object)"
      ]
     },
     "execution_count": 128,
     "metadata": {},
     "output_type": "execute_result"
    }
   ],
   "source": [
    "df['Enclave'].unique()"
   ]
  },
  {
   "cell_type": "code",
   "execution_count": 130,
   "id": "ec108a61-5941-43da-9ed9-9c1cb41e34cc",
   "metadata": {},
   "outputs": [
    {
     "data": {
      "text/plain": [
       "Enclave\n",
       "Dragonspire       351\n",
       "Sunspire          214\n",
       "Petalbridge       190\n",
       "Shadowmere        156\n",
       "Wyverncliff       146\n",
       "Silverglen        132\n",
       "Duskwood          132\n",
       "Emberfall         119\n",
       "Nighthaven        103\n",
       "Brightforge       100\n",
       "Stormwatch         90\n",
       "Crystalhollow      89\n",
       "Thornfield         83\n",
       "Mystvale           72\n",
       "Ravenstone         58\n",
       "Glimmerwood        55\n",
       "Riverbend          44\n",
       "Stormhold          40\n",
       "Windwhisper        37\n",
       "Wolfsbane          29\n",
       "Starfall           25\n",
       "Dreamweaver        21\n",
       "Mossheart          19\n",
       "Cloudrest          17\n",
       "Oakenshade          9\n",
       "Verdantia           6\n",
       "dragonspire         2\n",
       "dreamweaver         2\n",
       "sunspire            2\n",
       "Moonglade           2\n",
       "Brightforges        2\n",
       "Duskwoods           1\n",
       "Shadowmeres         1\n",
       "petalbridge         1\n",
       "SILVERGLEN          1\n",
       "silverglen          1\n",
       "RAVENSTONE          1\n",
       "windwhisper         1\n",
       "Wolfsbanes          1\n",
       "PETALBRIDGE         1\n",
       "WYVERNCLIFF         1\n",
       "SHADOWMERE          1\n",
       "DRAGONSPIRE         1\n",
       "cloudrest           1\n",
       "Crystalhollows      1\n",
       "DUSKWOOD            1\n",
       "crystalhollow       1\n",
       "Name: count, dtype: int64"
      ]
     },
     "execution_count": 130,
     "metadata": {},
     "output_type": "execute_result"
    }
   ],
   "source": [
    "df['Enclave'].value_counts()"
   ]
  },
  {
   "cell_type": "markdown",
   "id": "a0a3f928-4ff2-479e-8075-ecf0838f97fd",
   "metadata": {},
   "source": [
    "Here we are checking if the parcel size unit is consistent"
   ]
  },
  {
   "cell_type": "code",
   "execution_count": 133,
   "id": "1cbe3ba8-b9d0-4e04-bc7f-352ced43a03e",
   "metadata": {},
   "outputs": [
    {
     "data": {
      "text/plain": [
       "array(['sqft', 'sqm'], dtype=object)"
      ]
     },
     "execution_count": 133,
     "metadata": {},
     "output_type": "execute_result"
    }
   ],
   "source": [
    "df['ParcelSizeUnit'].unique()"
   ]
  },
  {
   "cell_type": "markdown",
   "id": "4bfff202-f2e1-4798-ae70-3c4530951c7a",
   "metadata": {},
   "source": [
    "Checking for duplicated values"
   ]
  },
  {
   "cell_type": "code",
   "execution_count": 136,
   "id": "30e67213-3541-4f72-8bc9-91cc1f9462d7",
   "metadata": {},
   "outputs": [
    {
     "data": {
      "text/plain": [
       "23"
      ]
     },
     "execution_count": 136,
     "metadata": {},
     "output_type": "execute_result"
    }
   ],
   "source": [
    "df.duplicated().sum()"
   ]
  },
  {
   "cell_type": "markdown",
   "id": "4a72b61e-153b-425d-82ae-253a5c4a8842",
   "metadata": {},
   "source": [
    "An additional check for outliers can be seen below."
   ]
  },
  {
   "cell_type": "code",
   "execution_count": 138,
   "id": "3acfc36b-b489-4503-8218-e6ec47f5aeac",
   "metadata": {},
   "outputs": [
    {
     "data": {
      "text/plain": [
       "496        61.5\n",
       "1240       99.5\n",
       "1002      127.0\n",
       "184       129.5\n",
       "1270      140.0\n",
       "688       140.2\n",
       "623       174.0\n",
       "1636      215.0\n",
       "147       227.0\n",
       "1126      255.5\n",
       "1184      610.0\n",
       "2226    12789.0\n",
       "156     34900.0\n",
       "16      35311.0\n",
       "851     37900.0\n",
       "475     39300.0\n",
       "871     40000.0\n",
       "488     44000.0\n",
       "1348    45000.0\n",
       "1168    46500.0\n",
       "1890    50138.0\n",
       "1996    51689.0\n",
       "1282    52000.0\n",
       "1499    52500.0\n",
       "110     55000.0\n",
       "1226    55993.0\n",
       "699     58500.0\n",
       "763     59000.0\n",
       "2066    60000.0\n",
       "1820    60000.0\n",
       "Name: TradeValue, dtype: float64"
      ]
     },
     "execution_count": 138,
     "metadata": {},
     "output_type": "execute_result"
    }
   ],
   "source": [
    "df['TradeValue'].sort_values().head(30)"
   ]
  },
  {
   "cell_type": "markdown",
   "id": "78915cf7-767a-4319-bd5b-12dda371b4de",
   "metadata": {},
   "source": [
    "### 1.4 Checking the differences in ParcelSizeUnit in more detail"
   ]
  },
  {
   "cell_type": "code",
   "execution_count": 140,
   "id": "f1a16058-81e5-4c89-8596-eaa2948e47f1",
   "metadata": {},
   "outputs": [],
   "source": [
    "dfm = df.loc[df['ParcelSizeUnit'] == 'sqm']"
   ]
  },
  {
   "cell_type": "code",
   "execution_count": 142,
   "id": "3b36605a-6bf8-4748-b1bc-2269f1199479",
   "metadata": {},
   "outputs": [],
   "source": [
    "dfft = df.loc[df['ParcelSizeUnit'] == 'sqft']"
   ]
  },
  {
   "cell_type": "code",
   "execution_count": 144,
   "id": "78b87324-c8af-4bdd-ab21-c47bec0cddf2",
   "metadata": {},
   "outputs": [
    {
     "data": {
      "text/plain": [
       "1154.8095238095239"
      ]
     },
     "execution_count": 144,
     "metadata": {},
     "output_type": "execute_result"
    }
   ],
   "source": [
    "dfm['LivingQuarters'].mean()"
   ]
  },
  {
   "cell_type": "code",
   "execution_count": 146,
   "id": "704ba577-c547-461b-b934-b1ffac142547",
   "metadata": {},
   "outputs": [
    {
     "data": {
      "text/plain": [
       "1157.0930755395684"
      ]
     },
     "execution_count": 146,
     "metadata": {},
     "output_type": "execute_result"
    }
   ],
   "source": [
    "dfft['LivingQuarters'].mean()"
   ]
  },
  {
   "cell_type": "code",
   "execution_count": 148,
   "id": "129ce2d3-6ab2-4b1c-a881-b0846c24c816",
   "metadata": {},
   "outputs": [
    {
     "data": {
      "text/plain": [
       "995.5808620869564"
      ]
     },
     "execution_count": 148,
     "metadata": {},
     "output_type": "execute_result"
    }
   ],
   "source": [
    "dfm['ParcelSize'].mean()"
   ]
  },
  {
   "cell_type": "code",
   "execution_count": 150,
   "id": "cae5777a-28d3-4c09-87a8-87b334289a54",
   "metadata": {},
   "outputs": [
    {
     "data": {
      "text/plain": [
       "9977.22351211111"
      ]
     },
     "execution_count": 150,
     "metadata": {},
     "output_type": "execute_result"
    }
   ],
   "source": [
    "dfft['ParcelSize'].mean()"
   ]
  },
  {
   "cell_type": "code",
   "execution_count": 152,
   "id": "95173465-4ca5-4420-b00f-10e3f552a754",
   "metadata": {},
   "outputs": [
    {
     "data": {
      "text/plain": [
       "192136.13043478262"
      ]
     },
     "execution_count": 152,
     "metadata": {},
     "output_type": "execute_result"
    }
   ],
   "source": [
    "dfm['TradeValue'].mean()"
   ]
  },
  {
   "cell_type": "code",
   "execution_count": 154,
   "id": "523cc21e-ba91-4e32-9b3e-ad2d8dadf555",
   "metadata": {},
   "outputs": [
    {
     "data": {
      "text/plain": [
       "181042.59025641024"
      ]
     },
     "execution_count": 154,
     "metadata": {},
     "output_type": "execute_result"
    }
   ],
   "source": [
    "dfft['TradeValue'].mean()"
   ]
  },
  {
   "cell_type": "markdown",
   "id": "2f77b71f-c161-4676-be62-16705ef61ef8",
   "metadata": {},
   "source": [
    "## 2. Data preparation"
   ]
  },
  {
   "cell_type": "markdown",
   "id": "0b78f944-ac0d-4c8e-bb8a-03759ea8fbb0",
   "metadata": {},
   "source": [
    "### 2.1 Fixing issues within the ParcelSize & ParcelSizeUnit columns"
   ]
  },
  {
   "cell_type": "markdown",
   "id": "29c924f9-73d4-4ad7-a579-19a4dda368df",
   "metadata": {},
   "source": [
    "First flipping the sign on all the negative sized parcels"
   ]
  },
  {
   "cell_type": "code",
   "execution_count": 158,
   "id": "12b15ffc-94e3-41c1-af27-3ee4b6fb063f",
   "metadata": {},
   "outputs": [],
   "source": [
    "df[\"ParcelSize\"] = df[\"ParcelSize\"].abs()"
   ]
  },
  {
   "cell_type": "code",
   "execution_count": 160,
   "id": "5c54add5-71a8-433f-87ae-a2b6275ea36e",
   "metadata": {},
   "outputs": [
    {
     "data": {
      "text/html": [
       "<div>\n",
       "<style scoped>\n",
       "    .dataframe tbody tr th:only-of-type {\n",
       "        vertical-align: middle;\n",
       "    }\n",
       "\n",
       "    .dataframe tbody tr th {\n",
       "        vertical-align: top;\n",
       "    }\n",
       "\n",
       "    .dataframe thead th {\n",
       "        text-align: right;\n",
       "    }\n",
       "</style>\n",
       "<table border=\"1\" class=\"dataframe\">\n",
       "  <thead>\n",
       "    <tr style=\"text-align: right;\">\n",
       "      <th></th>\n",
       "      <th>DI</th>\n",
       "      <th>TradeValue</th>\n",
       "      <th>LivingQuarters</th>\n",
       "      <th>ParcelSize</th>\n",
       "    </tr>\n",
       "  </thead>\n",
       "  <tbody>\n",
       "    <tr>\n",
       "      <th>count</th>\n",
       "      <td>2363.000000</td>\n",
       "      <td>2363.000000</td>\n",
       "      <td>2245.000000</td>\n",
       "      <td>2363.000000</td>\n",
       "    </tr>\n",
       "    <tr>\n",
       "      <th>mean</th>\n",
       "      <td>1169.813796</td>\n",
       "      <td>181150.568007</td>\n",
       "      <td>1157.071715</td>\n",
       "      <td>9982.670918</td>\n",
       "    </tr>\n",
       "    <tr>\n",
       "      <th>std</th>\n",
       "      <td>675.447687</td>\n",
       "      <td>82165.603916</td>\n",
       "      <td>392.780821</td>\n",
       "      <td>7837.981638</td>\n",
       "    </tr>\n",
       "    <tr>\n",
       "      <th>min</th>\n",
       "      <td>0.000000</td>\n",
       "      <td>61.500000</td>\n",
       "      <td>256.000000</td>\n",
       "      <td>0.043300</td>\n",
       "    </tr>\n",
       "    <tr>\n",
       "      <th>25%</th>\n",
       "      <td>584.500000</td>\n",
       "      <td>129825.000000</td>\n",
       "      <td>871.000000</td>\n",
       "      <td>7298.500000</td>\n",
       "    </tr>\n",
       "    <tr>\n",
       "      <th>50%</th>\n",
       "      <td>1170.000000</td>\n",
       "      <td>160000.000000</td>\n",
       "      <td>1116.000000</td>\n",
       "      <td>9345.000000</td>\n",
       "    </tr>\n",
       "    <tr>\n",
       "      <th>75%</th>\n",
       "      <td>1753.500000</td>\n",
       "      <td>213000.000000</td>\n",
       "      <td>1341.000000</td>\n",
       "      <td>11485.500000</td>\n",
       "    </tr>\n",
       "    <tr>\n",
       "      <th>max</th>\n",
       "      <td>2339.000000</td>\n",
       "      <td>755000.000000</td>\n",
       "      <td>4339.000000</td>\n",
       "      <td>164660.000000</td>\n",
       "    </tr>\n",
       "  </tbody>\n",
       "</table>\n",
       "</div>"
      ],
      "text/plain": [
       "                DI     TradeValue  LivingQuarters     ParcelSize\n",
       "count  2363.000000    2363.000000     2245.000000    2363.000000\n",
       "mean   1169.813796  181150.568007     1157.071715    9982.670918\n",
       "std     675.447687   82165.603916      392.780821    7837.981638\n",
       "min       0.000000      61.500000      256.000000       0.043300\n",
       "25%     584.500000  129825.000000      871.000000    7298.500000\n",
       "50%    1170.000000  160000.000000     1116.000000    9345.000000\n",
       "75%    1753.500000  213000.000000     1341.000000   11485.500000\n",
       "max    2339.000000  755000.000000     4339.000000  164660.000000"
      ]
     },
     "execution_count": 160,
     "metadata": {},
     "output_type": "execute_result"
    }
   ],
   "source": [
    "df.describe()"
   ]
  },
  {
   "cell_type": "code",
   "execution_count": 162,
   "id": "c54f4f3f-805f-479b-b0ec-4b2baca2b124",
   "metadata": {},
   "outputs": [
    {
     "data": {
      "text/html": [
       "<div>\n",
       "<style scoped>\n",
       "    .dataframe tbody tr th:only-of-type {\n",
       "        vertical-align: middle;\n",
       "    }\n",
       "\n",
       "    .dataframe tbody tr th {\n",
       "        vertical-align: top;\n",
       "    }\n",
       "\n",
       "    .dataframe thead th {\n",
       "        text-align: right;\n",
       "    }\n",
       "</style>\n",
       "<table border=\"1\" class=\"dataframe\">\n",
       "  <thead>\n",
       "    <tr style=\"text-align: right;\">\n",
       "      <th></th>\n",
       "      <th>DI</th>\n",
       "      <th>TradeValue</th>\n",
       "      <th>RealmType</th>\n",
       "      <th>Enclave</th>\n",
       "      <th>LivingQuarters</th>\n",
       "      <th>ParcelSize</th>\n",
       "      <th>ParcelSizeUnit</th>\n",
       "    </tr>\n",
       "  </thead>\n",
       "  <tbody>\n",
       "    <tr>\n",
       "      <th>1240</th>\n",
       "      <td>1229</td>\n",
       "      <td>99.5</td>\n",
       "      <td>GnomeBurough</td>\n",
       "      <td>Mystvale</td>\n",
       "      <td>1011.0</td>\n",
       "      <td>0.043300</td>\n",
       "      <td>sqft</td>\n",
       "    </tr>\n",
       "    <tr>\n",
       "      <th>688</th>\n",
       "      <td>680</td>\n",
       "      <td>140.2</td>\n",
       "      <td>Meadowlands</td>\n",
       "      <td>Stormwatch</td>\n",
       "      <td>1213.0</td>\n",
       "      <td>0.064350</td>\n",
       "      <td>sqft</td>\n",
       "    </tr>\n",
       "    <tr>\n",
       "      <th>496</th>\n",
       "      <td>493</td>\n",
       "      <td>61.5</td>\n",
       "      <td>Meadowlands</td>\n",
       "      <td>Shadowmere</td>\n",
       "      <td>NaN</td>\n",
       "      <td>0.068820</td>\n",
       "      <td>sqft</td>\n",
       "    </tr>\n",
       "    <tr>\n",
       "      <th>1270</th>\n",
       "      <td>1259</td>\n",
       "      <td>140.0</td>\n",
       "      <td>GnomeBurough</td>\n",
       "      <td>Petalbridge</td>\n",
       "      <td>719.0</td>\n",
       "      <td>0.072000</td>\n",
       "      <td>sqft</td>\n",
       "    </tr>\n",
       "    <tr>\n",
       "      <th>147</th>\n",
       "      <td>146</td>\n",
       "      <td>227.0</td>\n",
       "      <td>Meadowlands</td>\n",
       "      <td>Nighthaven</td>\n",
       "      <td>1280.0</td>\n",
       "      <td>0.084000</td>\n",
       "      <td>sqft</td>\n",
       "    </tr>\n",
       "    <tr>\n",
       "      <th>1002</th>\n",
       "      <td>993</td>\n",
       "      <td>127.0</td>\n",
       "      <td>Meadowlands</td>\n",
       "      <td>Shadowmere</td>\n",
       "      <td>1177.0</td>\n",
       "      <td>0.093500</td>\n",
       "      <td>sqft</td>\n",
       "    </tr>\n",
       "    <tr>\n",
       "      <th>184</th>\n",
       "      <td>183</td>\n",
       "      <td>129.5</td>\n",
       "      <td>GnomeBurough</td>\n",
       "      <td>Petalbridge</td>\n",
       "      <td>1583.0</td>\n",
       "      <td>0.096000</td>\n",
       "      <td>sqft</td>\n",
       "    </tr>\n",
       "    <tr>\n",
       "      <th>1126</th>\n",
       "      <td>1116</td>\n",
       "      <td>255.5</td>\n",
       "      <td>Meadowlands</td>\n",
       "      <td>Silverglen</td>\n",
       "      <td>1320.0</td>\n",
       "      <td>0.111460</td>\n",
       "      <td>sqft</td>\n",
       "    </tr>\n",
       "    <tr>\n",
       "      <th>1636</th>\n",
       "      <td>1620</td>\n",
       "      <td>215.0</td>\n",
       "      <td>Meadowlands</td>\n",
       "      <td>Crystalhollow</td>\n",
       "      <td>1508.0</td>\n",
       "      <td>0.122090</td>\n",
       "      <td>sqft</td>\n",
       "    </tr>\n",
       "    <tr>\n",
       "      <th>623</th>\n",
       "      <td>616</td>\n",
       "      <td>174.0</td>\n",
       "      <td>Meadowlands</td>\n",
       "      <td>Duskwood</td>\n",
       "      <td>1141.0</td>\n",
       "      <td>0.125890</td>\n",
       "      <td>sqft</td>\n",
       "    </tr>\n",
       "    <tr>\n",
       "      <th>1184</th>\n",
       "      <td>1173</td>\n",
       "      <td>610.0</td>\n",
       "      <td>Meadowlands</td>\n",
       "      <td>Silverglen</td>\n",
       "      <td>2056.0</td>\n",
       "      <td>0.136930</td>\n",
       "      <td>sqft</td>\n",
       "    </tr>\n",
       "    <tr>\n",
       "      <th>1729</th>\n",
       "      <td>1712</td>\n",
       "      <td>123900.0</td>\n",
       "      <td>GnomeBurough</td>\n",
       "      <td>Oakenshade</td>\n",
       "      <td>803.0</td>\n",
       "      <td>165.553146</td>\n",
       "      <td>sqm</td>\n",
       "    </tr>\n",
       "    <tr>\n",
       "      <th>2032</th>\n",
       "      <td>2012</td>\n",
       "      <td>170000.0</td>\n",
       "      <td>Meadowlands</td>\n",
       "      <td>Verdantia</td>\n",
       "      <td>943.0</td>\n",
       "      <td>360.092028</td>\n",
       "      <td>sqm</td>\n",
       "    </tr>\n",
       "    <tr>\n",
       "      <th>1120</th>\n",
       "      <td>1110</td>\n",
       "      <td>109500.0</td>\n",
       "      <td>GnomeBurough</td>\n",
       "      <td>Petalbridge</td>\n",
       "      <td>719.0</td>\n",
       "      <td>416.669955</td>\n",
       "      <td>sqm</td>\n",
       "    </tr>\n",
       "    <tr>\n",
       "      <th>346</th>\n",
       "      <td>344</td>\n",
       "      <td>73000.0</td>\n",
       "      <td>GnomeBurough</td>\n",
       "      <td>Petalbridge</td>\n",
       "      <td>587.0</td>\n",
       "      <td>486.068496</td>\n",
       "      <td>sqm</td>\n",
       "    </tr>\n",
       "    <tr>\n",
       "      <th>1148</th>\n",
       "      <td>1137</td>\n",
       "      <td>135960.0</td>\n",
       "      <td>Meadowlands</td>\n",
       "      <td>Dragonspire</td>\n",
       "      <td>725.0</td>\n",
       "      <td>653.293896</td>\n",
       "      <td>sqm</td>\n",
       "    </tr>\n",
       "    <tr>\n",
       "      <th>1293</th>\n",
       "      <td>1282</td>\n",
       "      <td>119900.0</td>\n",
       "      <td>Meadowlands</td>\n",
       "      <td>Sunspire</td>\n",
       "      <td>664.0</td>\n",
       "      <td>668.901600</td>\n",
       "      <td>sqm</td>\n",
       "    </tr>\n",
       "    <tr>\n",
       "      <th>1708</th>\n",
       "      <td>1691</td>\n",
       "      <td>102000.0</td>\n",
       "      <td>Meadowlands</td>\n",
       "      <td>Dragonspire</td>\n",
       "      <td>952.0</td>\n",
       "      <td>668.901600</td>\n",
       "      <td>sqm</td>\n",
       "    </tr>\n",
       "    <tr>\n",
       "      <th>745</th>\n",
       "      <td>737</td>\n",
       "      <td>192000.0</td>\n",
       "      <td>Meadowlands</td>\n",
       "      <td>Duskwood</td>\n",
       "      <td>1259.0</td>\n",
       "      <td>840.028926</td>\n",
       "      <td>sqm</td>\n",
       "    </tr>\n",
       "    <tr>\n",
       "      <th>1054</th>\n",
       "      <td>1044</td>\n",
       "      <td>185750.0</td>\n",
       "      <td>Meadowlands</td>\n",
       "      <td>Nighthaven</td>\n",
       "      <td>1145.0</td>\n",
       "      <td>850.619868</td>\n",
       "      <td>sqm</td>\n",
       "    </tr>\n",
       "    <tr>\n",
       "      <th>258</th>\n",
       "      <td>257</td>\n",
       "      <td>178000.0</td>\n",
       "      <td>Meadowlands</td>\n",
       "      <td>Brightforge</td>\n",
       "      <td>1332.0</td>\n",
       "      <td>855.265018</td>\n",
       "      <td>sqm</td>\n",
       "    </tr>\n",
       "    <tr>\n",
       "      <th>534</th>\n",
       "      <td>528</td>\n",
       "      <td>153000.0</td>\n",
       "      <td>Meadowlands</td>\n",
       "      <td>Dragonspire</td>\n",
       "      <td>1009.0</td>\n",
       "      <td>868.643050</td>\n",
       "      <td>sqm</td>\n",
       "    </tr>\n",
       "    <tr>\n",
       "      <th>1983</th>\n",
       "      <td>1963</td>\n",
       "      <td>155000.0</td>\n",
       "      <td>Meadowlands</td>\n",
       "      <td>Dragonspire</td>\n",
       "      <td>1093.0</td>\n",
       "      <td>878.583671</td>\n",
       "      <td>sqm</td>\n",
       "    </tr>\n",
       "    <tr>\n",
       "      <th>1622</th>\n",
       "      <td>1606</td>\n",
       "      <td>130000.0</td>\n",
       "      <td>GnomeBurough</td>\n",
       "      <td>Petalbridge</td>\n",
       "      <td>1807.0</td>\n",
       "      <td>891.868800</td>\n",
       "      <td>sqm</td>\n",
       "    </tr>\n",
       "    <tr>\n",
       "      <th>1742</th>\n",
       "      <td>1725</td>\n",
       "      <td>173000.0</td>\n",
       "      <td>Meadowlands</td>\n",
       "      <td>Crystalhollow</td>\n",
       "      <td>936.0</td>\n",
       "      <td>924.106141</td>\n",
       "      <td>sqm</td>\n",
       "    </tr>\n",
       "    <tr>\n",
       "      <th>774</th>\n",
       "      <td>766</td>\n",
       "      <td>185000.0</td>\n",
       "      <td>Meadowlands</td>\n",
       "      <td>Nighthaven</td>\n",
       "      <td>NaN</td>\n",
       "      <td>966.191200</td>\n",
       "      <td>sqm</td>\n",
       "    </tr>\n",
       "    <tr>\n",
       "      <th>975</th>\n",
       "      <td>967</td>\n",
       "      <td>279500.0</td>\n",
       "      <td>Meadowlands</td>\n",
       "      <td>Glimmerwood</td>\n",
       "      <td>1634.0</td>\n",
       "      <td>1021.003970</td>\n",
       "      <td>sqm</td>\n",
       "    </tr>\n",
       "    <tr>\n",
       "      <th>196</th>\n",
       "      <td>195</td>\n",
       "      <td>84900.0</td>\n",
       "      <td>Meadowlands</td>\n",
       "      <td>Shadowmere</td>\n",
       "      <td>715.0</td>\n",
       "      <td>1031.223300</td>\n",
       "      <td>sqm</td>\n",
       "    </tr>\n",
       "    <tr>\n",
       "      <th>202</th>\n",
       "      <td>201</td>\n",
       "      <td>394432.0</td>\n",
       "      <td>Meadowlands</td>\n",
       "      <td>Riverbend</td>\n",
       "      <td>NaN</td>\n",
       "      <td>1058.536782</td>\n",
       "      <td>sqm</td>\n",
       "    </tr>\n",
       "    <tr>\n",
       "      <th>412</th>\n",
       "      <td>409</td>\n",
       "      <td>153000.0</td>\n",
       "      <td>Meadowlands</td>\n",
       "      <td>Brightforge</td>\n",
       "      <td>856.0</td>\n",
       "      <td>1156.642350</td>\n",
       "      <td>sqm</td>\n",
       "    </tr>\n",
       "    <tr>\n",
       "      <th>1172</th>\n",
       "      <td>1161</td>\n",
       "      <td>485000.0</td>\n",
       "      <td>Meadowlands</td>\n",
       "      <td>Silverglen</td>\n",
       "      <td>2415.0</td>\n",
       "      <td>1255.862754</td>\n",
       "      <td>sqm</td>\n",
       "    </tr>\n",
       "    <tr>\n",
       "      <th>888</th>\n",
       "      <td>880</td>\n",
       "      <td>73000.0</td>\n",
       "      <td>GnomeBurough</td>\n",
       "      <td>Wolfsbane</td>\n",
       "      <td>484.0</td>\n",
       "      <td>1470.000000</td>\n",
       "      <td>sqft</td>\n",
       "    </tr>\n",
       "    <tr>\n",
       "      <th>1739</th>\n",
       "      <td>1722</td>\n",
       "      <td>76000.0</td>\n",
       "      <td>GnomeBurough</td>\n",
       "      <td>Wolfsbane</td>\n",
       "      <td>839.0</td>\n",
       "      <td>1476.000000</td>\n",
       "      <td>sqft</td>\n",
       "    </tr>\n",
       "    <tr>\n",
       "      <th>1889</th>\n",
       "      <td>1870</td>\n",
       "      <td>98000.0</td>\n",
       "      <td>GnomeBurough</td>\n",
       "      <td>Wolfsbane</td>\n",
       "      <td>839.0</td>\n",
       "      <td>1477.000000</td>\n",
       "      <td>sqft</td>\n",
       "    </tr>\n",
       "    <tr>\n",
       "      <th>771</th>\n",
       "      <td>763</td>\n",
       "      <td>80000.0</td>\n",
       "      <td>GnomeBurough</td>\n",
       "      <td>Wolfsbane</td>\n",
       "      <td>484.0</td>\n",
       "      <td>1477.000000</td>\n",
       "      <td>sqft</td>\n",
       "    </tr>\n",
       "    <tr>\n",
       "      <th>2023</th>\n",
       "      <td>2003</td>\n",
       "      <td>137000.0</td>\n",
       "      <td>GnomeBurough</td>\n",
       "      <td>Oakenshade</td>\n",
       "      <td>945.0</td>\n",
       "      <td>1488.000000</td>\n",
       "      <td>sqft</td>\n",
       "    </tr>\n",
       "    <tr>\n",
       "      <th>516</th>\n",
       "      <td>512</td>\n",
       "      <td>93900.0</td>\n",
       "      <td>GnomeBurough</td>\n",
       "      <td>Wolfsbane</td>\n",
       "      <td>839.0</td>\n",
       "      <td>1495.000000</td>\n",
       "      <td>sqft</td>\n",
       "    </tr>\n",
       "    <tr>\n",
       "      <th>563</th>\n",
       "      <td>557</td>\n",
       "      <td>85500.0</td>\n",
       "      <td>GnomeBurough</td>\n",
       "      <td>Wolfsbane</td>\n",
       "      <td>839.0</td>\n",
       "      <td>1504.000000</td>\n",
       "      <td>sqft</td>\n",
       "    </tr>\n",
       "    <tr>\n",
       "      <th>892</th>\n",
       "      <td>884</td>\n",
       "      <td>79500.0</td>\n",
       "      <td>GnomeBurough</td>\n",
       "      <td>Wolfsbane</td>\n",
       "      <td>839.0</td>\n",
       "      <td>1526.000000</td>\n",
       "      <td>sqft</td>\n",
       "    </tr>\n",
       "    <tr>\n",
       "      <th>1263</th>\n",
       "      <td>1252</td>\n",
       "      <td>86000.0</td>\n",
       "      <td>GnomeBurough</td>\n",
       "      <td>Wolfsbane</td>\n",
       "      <td>484.0</td>\n",
       "      <td>1526.000000</td>\n",
       "      <td>sqft</td>\n",
       "    </tr>\n",
       "    <tr>\n",
       "      <th>141</th>\n",
       "      <td>140</td>\n",
       "      <td>97000.0</td>\n",
       "      <td>GnomeBurough</td>\n",
       "      <td>Wolfsbane</td>\n",
       "      <td>1033.0</td>\n",
       "      <td>1533.000000</td>\n",
       "      <td>sqft</td>\n",
       "    </tr>\n",
       "    <tr>\n",
       "      <th>1482</th>\n",
       "      <td>1467</td>\n",
       "      <td>106500.0</td>\n",
       "      <td>GnomeBurough</td>\n",
       "      <td>Wolfsbane</td>\n",
       "      <td>763.0</td>\n",
       "      <td>1533.000000</td>\n",
       "      <td>sqft</td>\n",
       "    </tr>\n",
       "    <tr>\n",
       "      <th>1234</th>\n",
       "      <td>1223</td>\n",
       "      <td>87550.0</td>\n",
       "      <td>GnomeBurough</td>\n",
       "      <td>Wolfsbane</td>\n",
       "      <td>839.0</td>\n",
       "      <td>1533.000000</td>\n",
       "      <td>sqft</td>\n",
       "    </tr>\n",
       "    <tr>\n",
       "      <th>1856</th>\n",
       "      <td>1838</td>\n",
       "      <td>92000.0</td>\n",
       "      <td>GnomeBurough</td>\n",
       "      <td>Wolfsbane</td>\n",
       "      <td>484.0</td>\n",
       "      <td>1533.000000</td>\n",
       "      <td>sqft</td>\n",
       "    </tr>\n",
       "    <tr>\n",
       "      <th>32</th>\n",
       "      <td>32</td>\n",
       "      <td>91000.0</td>\n",
       "      <td>GnomeBurough</td>\n",
       "      <td>Wolfsbane</td>\n",
       "      <td>759.0</td>\n",
       "      <td>1596.000000</td>\n",
       "      <td>sqft</td>\n",
       "    </tr>\n",
       "    <tr>\n",
       "      <th>1286</th>\n",
       "      <td>1275</td>\n",
       "      <td>121000.0</td>\n",
       "      <td>GnomeBurough</td>\n",
       "      <td>Oakenshade</td>\n",
       "      <td>945.0</td>\n",
       "      <td>1612.000000</td>\n",
       "      <td>sqft</td>\n",
       "    </tr>\n",
       "    <tr>\n",
       "      <th>2143</th>\n",
       "      <td>2123</td>\n",
       "      <td>89000.0</td>\n",
       "      <td>GnomeBurough</td>\n",
       "      <td>Starfall</td>\n",
       "      <td>729.0</td>\n",
       "      <td>1680.000000</td>\n",
       "      <td>sqft</td>\n",
       "    </tr>\n",
       "    <tr>\n",
       "      <th>2124</th>\n",
       "      <td>2104</td>\n",
       "      <td>89500.0</td>\n",
       "      <td>GnomeBurough</td>\n",
       "      <td>Starfall</td>\n",
       "      <td>759.0</td>\n",
       "      <td>1680.000000</td>\n",
       "      <td>sqft</td>\n",
       "    </tr>\n",
       "    <tr>\n",
       "      <th>1439</th>\n",
       "      <td>1425</td>\n",
       "      <td>118000.0</td>\n",
       "      <td>GnomeBurough</td>\n",
       "      <td>Starfall</td>\n",
       "      <td>936.0</td>\n",
       "      <td>1680.000000</td>\n",
       "      <td>sqft</td>\n",
       "    </tr>\n",
       "    <tr>\n",
       "      <th>1623</th>\n",
       "      <td>1607</td>\n",
       "      <td>111750.0</td>\n",
       "      <td>GnomeBurough</td>\n",
       "      <td>Starfall</td>\n",
       "      <td>1001.0</td>\n",
       "      <td>1680.000000</td>\n",
       "      <td>sqft</td>\n",
       "    </tr>\n",
       "  </tbody>\n",
       "</table>\n",
       "</div>"
      ],
      "text/plain": [
       "        DI  TradeValue     RealmType        Enclave  LivingQuarters  \\\n",
       "1240  1229        99.5  GnomeBurough       Mystvale          1011.0   \n",
       "688    680       140.2   Meadowlands     Stormwatch          1213.0   \n",
       "496    493        61.5   Meadowlands     Shadowmere             NaN   \n",
       "1270  1259       140.0  GnomeBurough    Petalbridge           719.0   \n",
       "147    146       227.0   Meadowlands     Nighthaven          1280.0   \n",
       "1002   993       127.0   Meadowlands     Shadowmere          1177.0   \n",
       "184    183       129.5  GnomeBurough    Petalbridge          1583.0   \n",
       "1126  1116       255.5   Meadowlands     Silverglen          1320.0   \n",
       "1636  1620       215.0   Meadowlands  Crystalhollow          1508.0   \n",
       "623    616       174.0   Meadowlands       Duskwood          1141.0   \n",
       "1184  1173       610.0   Meadowlands     Silverglen          2056.0   \n",
       "1729  1712    123900.0  GnomeBurough     Oakenshade           803.0   \n",
       "2032  2012    170000.0   Meadowlands      Verdantia           943.0   \n",
       "1120  1110    109500.0  GnomeBurough    Petalbridge           719.0   \n",
       "346    344     73000.0  GnomeBurough    Petalbridge           587.0   \n",
       "1148  1137    135960.0   Meadowlands    Dragonspire           725.0   \n",
       "1293  1282    119900.0   Meadowlands       Sunspire           664.0   \n",
       "1708  1691    102000.0   Meadowlands    Dragonspire           952.0   \n",
       "745    737    192000.0   Meadowlands       Duskwood          1259.0   \n",
       "1054  1044    185750.0   Meadowlands     Nighthaven          1145.0   \n",
       "258    257    178000.0   Meadowlands    Brightforge          1332.0   \n",
       "534    528    153000.0   Meadowlands    Dragonspire          1009.0   \n",
       "1983  1963    155000.0   Meadowlands    Dragonspire          1093.0   \n",
       "1622  1606    130000.0  GnomeBurough    Petalbridge          1807.0   \n",
       "1742  1725    173000.0   Meadowlands  Crystalhollow           936.0   \n",
       "774    766    185000.0   Meadowlands     Nighthaven             NaN   \n",
       "975    967    279500.0   Meadowlands    Glimmerwood          1634.0   \n",
       "196    195     84900.0   Meadowlands     Shadowmere           715.0   \n",
       "202    201    394432.0   Meadowlands      Riverbend             NaN   \n",
       "412    409    153000.0   Meadowlands    Brightforge           856.0   \n",
       "1172  1161    485000.0   Meadowlands     Silverglen          2415.0   \n",
       "888    880     73000.0  GnomeBurough      Wolfsbane           484.0   \n",
       "1739  1722     76000.0  GnomeBurough      Wolfsbane           839.0   \n",
       "1889  1870     98000.0  GnomeBurough      Wolfsbane           839.0   \n",
       "771    763     80000.0  GnomeBurough      Wolfsbane           484.0   \n",
       "2023  2003    137000.0  GnomeBurough     Oakenshade           945.0   \n",
       "516    512     93900.0  GnomeBurough      Wolfsbane           839.0   \n",
       "563    557     85500.0  GnomeBurough      Wolfsbane           839.0   \n",
       "892    884     79500.0  GnomeBurough      Wolfsbane           839.0   \n",
       "1263  1252     86000.0  GnomeBurough      Wolfsbane           484.0   \n",
       "141    140     97000.0  GnomeBurough      Wolfsbane          1033.0   \n",
       "1482  1467    106500.0  GnomeBurough      Wolfsbane           763.0   \n",
       "1234  1223     87550.0  GnomeBurough      Wolfsbane           839.0   \n",
       "1856  1838     92000.0  GnomeBurough      Wolfsbane           484.0   \n",
       "32      32     91000.0  GnomeBurough      Wolfsbane           759.0   \n",
       "1286  1275    121000.0  GnomeBurough     Oakenshade           945.0   \n",
       "2143  2123     89000.0  GnomeBurough       Starfall           729.0   \n",
       "2124  2104     89500.0  GnomeBurough       Starfall           759.0   \n",
       "1439  1425    118000.0  GnomeBurough       Starfall           936.0   \n",
       "1623  1607    111750.0  GnomeBurough       Starfall          1001.0   \n",
       "\n",
       "       ParcelSize ParcelSizeUnit  \n",
       "1240     0.043300           sqft  \n",
       "688      0.064350           sqft  \n",
       "496      0.068820           sqft  \n",
       "1270     0.072000           sqft  \n",
       "147      0.084000           sqft  \n",
       "1002     0.093500           sqft  \n",
       "184      0.096000           sqft  \n",
       "1126     0.111460           sqft  \n",
       "1636     0.122090           sqft  \n",
       "623      0.125890           sqft  \n",
       "1184     0.136930           sqft  \n",
       "1729   165.553146            sqm  \n",
       "2032   360.092028            sqm  \n",
       "1120   416.669955            sqm  \n",
       "346    486.068496            sqm  \n",
       "1148   653.293896            sqm  \n",
       "1293   668.901600            sqm  \n",
       "1708   668.901600            sqm  \n",
       "745    840.028926            sqm  \n",
       "1054   850.619868            sqm  \n",
       "258    855.265018            sqm  \n",
       "534    868.643050            sqm  \n",
       "1983   878.583671            sqm  \n",
       "1622   891.868800            sqm  \n",
       "1742   924.106141            sqm  \n",
       "774    966.191200            sqm  \n",
       "975   1021.003970            sqm  \n",
       "196   1031.223300            sqm  \n",
       "202   1058.536782            sqm  \n",
       "412   1156.642350            sqm  \n",
       "1172  1255.862754            sqm  \n",
       "888   1470.000000           sqft  \n",
       "1739  1476.000000           sqft  \n",
       "1889  1477.000000           sqft  \n",
       "771   1477.000000           sqft  \n",
       "2023  1488.000000           sqft  \n",
       "516   1495.000000           sqft  \n",
       "563   1504.000000           sqft  \n",
       "892   1526.000000           sqft  \n",
       "1263  1526.000000           sqft  \n",
       "141   1533.000000           sqft  \n",
       "1482  1533.000000           sqft  \n",
       "1234  1533.000000           sqft  \n",
       "1856  1533.000000           sqft  \n",
       "32    1596.000000           sqft  \n",
       "1286  1612.000000           sqft  \n",
       "2143  1680.000000           sqft  \n",
       "2124  1680.000000           sqft  \n",
       "1439  1680.000000           sqft  \n",
       "1623  1680.000000           sqft  "
      ]
     },
     "execution_count": 162,
     "metadata": {},
     "output_type": "execute_result"
    }
   ],
   "source": [
    "df.sort_values(by=[\"ParcelSize\"]).head(50)"
   ]
  },
  {
   "cell_type": "markdown",
   "id": "18d0974a-f190-4171-9277-66e2a1213139",
   "metadata": {},
   "source": [
    "For the initial sqft ones, multiply the tradevalue and parcelsize by 1000, keep the rest the same\n",
    "For the sqm ones after that, their size to value ratio would make sense if they were converted to sqft\n",
    "From there on I think it's fine"
   ]
  },
  {
   "cell_type": "markdown",
   "id": "1ffc6e14-741e-4143-afc4-363f52c94fb1",
   "metadata": {},
   "source": [
    "First the conversion from sqm to sqft"
   ]
  },
  {
   "cell_type": "code",
   "execution_count": 166,
   "id": "b277430f-4496-4fa3-a99e-b312d659bfdd",
   "metadata": {},
   "outputs": [],
   "source": [
    "df['ParcelSize'] = df.apply(lambda x: x['ParcelSize'] * 10.7639 if x['ParcelSizeUnit'] == 'sqm' else x['ParcelSize'], axis=1)"
   ]
  },
  {
   "cell_type": "markdown",
   "id": "2cebd67a-af1b-474f-bc9a-8e575f207017",
   "metadata": {},
   "source": [
    "Then making sure they're classified as sqft in the parcel size unit column"
   ]
  },
  {
   "cell_type": "code",
   "execution_count": 169,
   "id": "e1b23456-47de-459f-bb8f-482057f0c6ba",
   "metadata": {},
   "outputs": [],
   "source": [
    "df.replace(to_replace='sqm', value='sqft', inplace=True)"
   ]
  },
  {
   "cell_type": "markdown",
   "id": "6d8bbfdb-e038-4f88-82cd-eae6c592a472",
   "metadata": {},
   "source": [
    "### 2.2 Fixing extremely low TradeValues & ParcelSize outliers"
   ]
  },
  {
   "cell_type": "markdown",
   "id": "e861ded1-8821-4d57-86e6-d56067c78db6",
   "metadata": {},
   "source": [
    "Multiplying the trade value on the outliers by 1000 to make them around median, or, at least, for them to have logical values"
   ]
  },
  {
   "cell_type": "code",
   "execution_count": 172,
   "id": "d5cb36c1-930b-410f-96ff-b01e32cade0b",
   "metadata": {},
   "outputs": [],
   "source": [
    "df['TradeValue'] = df.apply(lambda x: x['TradeValue'] * 1000 if x['ParcelSize'] < 1 else x['TradeValue'], axis=1)"
   ]
  },
  {
   "cell_type": "markdown",
   "id": "e319fb29-4e64-446b-a172-a960ba9c99a3",
   "metadata": {},
   "source": [
    "Same thing, except the parcel size is multiplied by 100000 instead to reach the median level"
   ]
  },
  {
   "cell_type": "code",
   "execution_count": 175,
   "id": "e41ae0b9-3d5c-44e3-9e77-83931ca6b7ac",
   "metadata": {},
   "outputs": [],
   "source": [
    "df['ParcelSize'] = df['ParcelSize'].apply(lambda x: x * 100000 if x < 1 else x)"
   ]
  },
  {
   "cell_type": "markdown",
   "id": "7b574107-c986-4d09-b37b-33e825a74f72",
   "metadata": {},
   "source": [
    "And a couple checks to make sure everything got processed correctly"
   ]
  },
  {
   "cell_type": "code",
   "execution_count": 178,
   "id": "9b7db9f6-046a-4f73-98fa-d7af4574355e",
   "metadata": {},
   "outputs": [
    {
     "data": {
      "text/html": [
       "<div>\n",
       "<style scoped>\n",
       "    .dataframe tbody tr th:only-of-type {\n",
       "        vertical-align: middle;\n",
       "    }\n",
       "\n",
       "    .dataframe tbody tr th {\n",
       "        vertical-align: top;\n",
       "    }\n",
       "\n",
       "    .dataframe thead th {\n",
       "        text-align: right;\n",
       "    }\n",
       "</style>\n",
       "<table border=\"1\" class=\"dataframe\">\n",
       "  <thead>\n",
       "    <tr style=\"text-align: right;\">\n",
       "      <th></th>\n",
       "      <th>DI</th>\n",
       "      <th>TradeValue</th>\n",
       "      <th>RealmType</th>\n",
       "      <th>Enclave</th>\n",
       "      <th>LivingQuarters</th>\n",
       "      <th>ParcelSize</th>\n",
       "      <th>ParcelSizeUnit</th>\n",
       "    </tr>\n",
       "  </thead>\n",
       "  <tbody>\n",
       "    <tr>\n",
       "      <th>888</th>\n",
       "      <td>880</td>\n",
       "      <td>73000.0</td>\n",
       "      <td>GnomeBurough</td>\n",
       "      <td>Wolfsbane</td>\n",
       "      <td>484.0</td>\n",
       "      <td>1470.0</td>\n",
       "      <td>sqft</td>\n",
       "    </tr>\n",
       "    <tr>\n",
       "      <th>1739</th>\n",
       "      <td>1722</td>\n",
       "      <td>76000.0</td>\n",
       "      <td>GnomeBurough</td>\n",
       "      <td>Wolfsbane</td>\n",
       "      <td>839.0</td>\n",
       "      <td>1476.0</td>\n",
       "      <td>sqft</td>\n",
       "    </tr>\n",
       "    <tr>\n",
       "      <th>1889</th>\n",
       "      <td>1870</td>\n",
       "      <td>98000.0</td>\n",
       "      <td>GnomeBurough</td>\n",
       "      <td>Wolfsbane</td>\n",
       "      <td>839.0</td>\n",
       "      <td>1477.0</td>\n",
       "      <td>sqft</td>\n",
       "    </tr>\n",
       "    <tr>\n",
       "      <th>771</th>\n",
       "      <td>763</td>\n",
       "      <td>80000.0</td>\n",
       "      <td>GnomeBurough</td>\n",
       "      <td>Wolfsbane</td>\n",
       "      <td>484.0</td>\n",
       "      <td>1477.0</td>\n",
       "      <td>sqft</td>\n",
       "    </tr>\n",
       "    <tr>\n",
       "      <th>2023</th>\n",
       "      <td>2003</td>\n",
       "      <td>137000.0</td>\n",
       "      <td>GnomeBurough</td>\n",
       "      <td>Oakenshade</td>\n",
       "      <td>945.0</td>\n",
       "      <td>1488.0</td>\n",
       "      <td>sqft</td>\n",
       "    </tr>\n",
       "    <tr>\n",
       "      <th>516</th>\n",
       "      <td>512</td>\n",
       "      <td>93900.0</td>\n",
       "      <td>GnomeBurough</td>\n",
       "      <td>Wolfsbane</td>\n",
       "      <td>839.0</td>\n",
       "      <td>1495.0</td>\n",
       "      <td>sqft</td>\n",
       "    </tr>\n",
       "    <tr>\n",
       "      <th>563</th>\n",
       "      <td>557</td>\n",
       "      <td>85500.0</td>\n",
       "      <td>GnomeBurough</td>\n",
       "      <td>Wolfsbane</td>\n",
       "      <td>839.0</td>\n",
       "      <td>1504.0</td>\n",
       "      <td>sqft</td>\n",
       "    </tr>\n",
       "    <tr>\n",
       "      <th>892</th>\n",
       "      <td>884</td>\n",
       "      <td>79500.0</td>\n",
       "      <td>GnomeBurough</td>\n",
       "      <td>Wolfsbane</td>\n",
       "      <td>839.0</td>\n",
       "      <td>1526.0</td>\n",
       "      <td>sqft</td>\n",
       "    </tr>\n",
       "    <tr>\n",
       "      <th>1263</th>\n",
       "      <td>1252</td>\n",
       "      <td>86000.0</td>\n",
       "      <td>GnomeBurough</td>\n",
       "      <td>Wolfsbane</td>\n",
       "      <td>484.0</td>\n",
       "      <td>1526.0</td>\n",
       "      <td>sqft</td>\n",
       "    </tr>\n",
       "    <tr>\n",
       "      <th>1482</th>\n",
       "      <td>1467</td>\n",
       "      <td>106500.0</td>\n",
       "      <td>GnomeBurough</td>\n",
       "      <td>Wolfsbane</td>\n",
       "      <td>763.0</td>\n",
       "      <td>1533.0</td>\n",
       "      <td>sqft</td>\n",
       "    </tr>\n",
       "    <tr>\n",
       "      <th>1856</th>\n",
       "      <td>1838</td>\n",
       "      <td>92000.0</td>\n",
       "      <td>GnomeBurough</td>\n",
       "      <td>Wolfsbane</td>\n",
       "      <td>484.0</td>\n",
       "      <td>1533.0</td>\n",
       "      <td>sqft</td>\n",
       "    </tr>\n",
       "    <tr>\n",
       "      <th>141</th>\n",
       "      <td>140</td>\n",
       "      <td>97000.0</td>\n",
       "      <td>GnomeBurough</td>\n",
       "      <td>Wolfsbane</td>\n",
       "      <td>1033.0</td>\n",
       "      <td>1533.0</td>\n",
       "      <td>sqft</td>\n",
       "    </tr>\n",
       "    <tr>\n",
       "      <th>1234</th>\n",
       "      <td>1223</td>\n",
       "      <td>87550.0</td>\n",
       "      <td>GnomeBurough</td>\n",
       "      <td>Wolfsbane</td>\n",
       "      <td>839.0</td>\n",
       "      <td>1533.0</td>\n",
       "      <td>sqft</td>\n",
       "    </tr>\n",
       "    <tr>\n",
       "      <th>32</th>\n",
       "      <td>32</td>\n",
       "      <td>91000.0</td>\n",
       "      <td>GnomeBurough</td>\n",
       "      <td>Wolfsbane</td>\n",
       "      <td>759.0</td>\n",
       "      <td>1596.0</td>\n",
       "      <td>sqft</td>\n",
       "    </tr>\n",
       "    <tr>\n",
       "      <th>1286</th>\n",
       "      <td>1275</td>\n",
       "      <td>121000.0</td>\n",
       "      <td>GnomeBurough</td>\n",
       "      <td>Oakenshade</td>\n",
       "      <td>945.0</td>\n",
       "      <td>1612.0</td>\n",
       "      <td>sqft</td>\n",
       "    </tr>\n",
       "  </tbody>\n",
       "</table>\n",
       "</div>"
      ],
      "text/plain": [
       "        DI  TradeValue     RealmType     Enclave  LivingQuarters  ParcelSize  \\\n",
       "888    880     73000.0  GnomeBurough   Wolfsbane           484.0      1470.0   \n",
       "1739  1722     76000.0  GnomeBurough   Wolfsbane           839.0      1476.0   \n",
       "1889  1870     98000.0  GnomeBurough   Wolfsbane           839.0      1477.0   \n",
       "771    763     80000.0  GnomeBurough   Wolfsbane           484.0      1477.0   \n",
       "2023  2003    137000.0  GnomeBurough  Oakenshade           945.0      1488.0   \n",
       "516    512     93900.0  GnomeBurough   Wolfsbane           839.0      1495.0   \n",
       "563    557     85500.0  GnomeBurough   Wolfsbane           839.0      1504.0   \n",
       "892    884     79500.0  GnomeBurough   Wolfsbane           839.0      1526.0   \n",
       "1263  1252     86000.0  GnomeBurough   Wolfsbane           484.0      1526.0   \n",
       "1482  1467    106500.0  GnomeBurough   Wolfsbane           763.0      1533.0   \n",
       "1856  1838     92000.0  GnomeBurough   Wolfsbane           484.0      1533.0   \n",
       "141    140     97000.0  GnomeBurough   Wolfsbane          1033.0      1533.0   \n",
       "1234  1223     87550.0  GnomeBurough   Wolfsbane           839.0      1533.0   \n",
       "32      32     91000.0  GnomeBurough   Wolfsbane           759.0      1596.0   \n",
       "1286  1275    121000.0  GnomeBurough  Oakenshade           945.0      1612.0   \n",
       "\n",
       "     ParcelSizeUnit  \n",
       "888            sqft  \n",
       "1739           sqft  \n",
       "1889           sqft  \n",
       "771            sqft  \n",
       "2023           sqft  \n",
       "516            sqft  \n",
       "563            sqft  \n",
       "892            sqft  \n",
       "1263           sqft  \n",
       "1482           sqft  \n",
       "1856           sqft  \n",
       "141            sqft  \n",
       "1234           sqft  \n",
       "32             sqft  \n",
       "1286           sqft  "
      ]
     },
     "execution_count": 178,
     "metadata": {},
     "output_type": "execute_result"
    }
   ],
   "source": [
    "df.sort_values(by=[\"ParcelSize\"]).head(15)"
   ]
  },
  {
   "cell_type": "code",
   "execution_count": 181,
   "id": "2453b06e-f4e0-4148-8377-c8232b5ce883",
   "metadata": {},
   "outputs": [
    {
     "data": {
      "text/plain": [
       "array(['sqft'], dtype=object)"
      ]
     },
     "execution_count": 181,
     "metadata": {},
     "output_type": "execute_result"
    }
   ],
   "source": [
    "df['ParcelSizeUnit'].unique()"
   ]
  },
  {
   "cell_type": "markdown",
   "id": "9f427b8b-67b6-4320-b253-8104f1f6cff6",
   "metadata": {},
   "source": [
    "And what was an outlier now looks about average in terms of value and size"
   ]
  },
  {
   "cell_type": "code",
   "execution_count": 184,
   "id": "717abfa8-7396-4877-b3c1-8718b6c35001",
   "metadata": {},
   "outputs": [
    {
     "data": {
      "text/plain": [
       "DI                        1229\n",
       "TradeValue             99500.0\n",
       "RealmType         GnomeBurough\n",
       "Enclave               Mystvale\n",
       "LivingQuarters          1011.0\n",
       "ParcelSize              4330.0\n",
       "ParcelSizeUnit            sqft\n",
       "Name: 1240, dtype: object"
      ]
     },
     "execution_count": 184,
     "metadata": {},
     "output_type": "execute_result"
    }
   ],
   "source": [
    "df.loc[1240]"
   ]
  },
  {
   "cell_type": "markdown",
   "id": "949495a0-0c69-40ee-b711-713085eb7204",
   "metadata": {},
   "source": [
    "### 2.3 Removing extremely high outliers (above 700.000) from dataset."
   ]
  },
  {
   "cell_type": "code",
   "execution_count": 187,
   "id": "10ae6c7b-619c-41df-a03d-c030cb876655",
   "metadata": {},
   "outputs": [],
   "source": [
    "df = df[df['TradeValue'] < 700000]"
   ]
  },
  {
   "cell_type": "code",
   "execution_count": 189,
   "id": "f8c869c5-ffa3-4dd5-85e8-920833a9b836",
   "metadata": {},
   "outputs": [
    {
     "data": {
      "text/html": [
       "<div>\n",
       "<style scoped>\n",
       "    .dataframe tbody tr th:only-of-type {\n",
       "        vertical-align: middle;\n",
       "    }\n",
       "\n",
       "    .dataframe tbody tr th {\n",
       "        vertical-align: top;\n",
       "    }\n",
       "\n",
       "    .dataframe thead th {\n",
       "        text-align: right;\n",
       "    }\n",
       "</style>\n",
       "<table border=\"1\" class=\"dataframe\">\n",
       "  <thead>\n",
       "    <tr style=\"text-align: right;\">\n",
       "      <th></th>\n",
       "      <th>DI</th>\n",
       "      <th>TradeValue</th>\n",
       "      <th>LivingQuarters</th>\n",
       "      <th>ParcelSize</th>\n",
       "    </tr>\n",
       "  </thead>\n",
       "  <tbody>\n",
       "    <tr>\n",
       "      <th>count</th>\n",
       "      <td>2361.000000</td>\n",
       "      <td>2361.000000</td>\n",
       "      <td>2243.000000</td>\n",
       "      <td>2361.000000</td>\n",
       "    </tr>\n",
       "    <tr>\n",
       "      <th>mean</th>\n",
       "      <td>1170.072003</td>\n",
       "      <td>181590.772130</td>\n",
       "      <td>1155.088720</td>\n",
       "      <td>10113.216288</td>\n",
       "    </tr>\n",
       "    <tr>\n",
       "      <th>std</th>\n",
       "      <td>675.643771</td>\n",
       "      <td>80151.143896</td>\n",
       "      <td>387.291918</td>\n",
       "      <td>7784.631817</td>\n",
       "    </tr>\n",
       "    <tr>\n",
       "      <th>min</th>\n",
       "      <td>0.000000</td>\n",
       "      <td>12789.000000</td>\n",
       "      <td>256.000000</td>\n",
       "      <td>1470.000000</td>\n",
       "    </tr>\n",
       "    <tr>\n",
       "      <th>25%</th>\n",
       "      <td>584.000000</td>\n",
       "      <td>130000.000000</td>\n",
       "      <td>870.500000</td>\n",
       "      <td>7436.000000</td>\n",
       "    </tr>\n",
       "    <tr>\n",
       "      <th>50%</th>\n",
       "      <td>1171.000000</td>\n",
       "      <td>160500.000000</td>\n",
       "      <td>1115.000000</td>\n",
       "      <td>9375.000000</td>\n",
       "    </tr>\n",
       "    <tr>\n",
       "      <th>75%</th>\n",
       "      <td>1754.000000</td>\n",
       "      <td>213000.000000</td>\n",
       "      <td>1339.500000</td>\n",
       "      <td>11512.000000</td>\n",
       "    </tr>\n",
       "    <tr>\n",
       "      <th>max</th>\n",
       "      <td>2339.000000</td>\n",
       "      <td>625000.000000</td>\n",
       "      <td>4339.000000</td>\n",
       "      <td>164660.000000</td>\n",
       "    </tr>\n",
       "  </tbody>\n",
       "</table>\n",
       "</div>"
      ],
      "text/plain": [
       "                DI     TradeValue  LivingQuarters     ParcelSize\n",
       "count  2361.000000    2361.000000     2243.000000    2361.000000\n",
       "mean   1170.072003  181590.772130     1155.088720   10113.216288\n",
       "std     675.643771   80151.143896      387.291918    7784.631817\n",
       "min       0.000000   12789.000000      256.000000    1470.000000\n",
       "25%     584.000000  130000.000000      870.500000    7436.000000\n",
       "50%    1171.000000  160500.000000     1115.000000    9375.000000\n",
       "75%    1754.000000  213000.000000     1339.500000   11512.000000\n",
       "max    2339.000000  625000.000000     4339.000000  164660.000000"
      ]
     },
     "execution_count": 189,
     "metadata": {},
     "output_type": "execute_result"
    }
   ],
   "source": [
    "df.describe()"
   ]
  },
  {
   "cell_type": "markdown",
   "id": "181364c8-e56f-4235-93e4-c0ef52cb5720",
   "metadata": {},
   "source": [
    "### 2.4 Fixing the Enclave spelling & duplication issues"
   ]
  },
  {
   "cell_type": "markdown",
   "id": "5df7f9c1-1a1d-49c2-9d1a-a8b617b3bc35",
   "metadata": {},
   "source": [
    "Here, fix the enclave name typos"
   ]
  },
  {
   "cell_type": "code",
   "execution_count": 192,
   "id": "62fcbf51-c75c-46be-a427-c3bf0767a7ca",
   "metadata": {},
   "outputs": [
    {
     "name": "stderr",
     "output_type": "stream",
     "text": [
      "C:\\Users\\Eigenaar\\AppData\\Local\\Temp\\ipykernel_19088\\2910308930.py:1: SettingWithCopyWarning: \n",
      "A value is trying to be set on a copy of a slice from a DataFrame.\n",
      "Try using .loc[row_indexer,col_indexer] = value instead\n",
      "\n",
      "See the caveats in the documentation: https://pandas.pydata.org/pandas-docs/stable/user_guide/indexing.html#returning-a-view-versus-a-copy\n",
      "  df[\"Enclave\"] = df[\"Enclave\"].str.lower()\n"
     ]
    }
   ],
   "source": [
    "df[\"Enclave\"] = df[\"Enclave\"].str.lower()"
   ]
  },
  {
   "cell_type": "code",
   "execution_count": 194,
   "id": "ccc71ff5-e57c-4131-8832-847bdd300e02",
   "metadata": {},
   "outputs": [
    {
     "name": "stderr",
     "output_type": "stream",
     "text": [
      "C:\\Users\\Eigenaar\\AppData\\Local\\Temp\\ipykernel_19088\\3562705285.py:1: SettingWithCopyWarning: \n",
      "A value is trying to be set on a copy of a slice from a DataFrame.\n",
      "Try using .loc[row_indexer,col_indexer] = value instead\n",
      "\n",
      "See the caveats in the documentation: https://pandas.pydata.org/pandas-docs/stable/user_guide/indexing.html#returning-a-view-versus-a-copy\n",
      "  df[\"Enclave\"] = df[\"Enclave\"].str.title()\n"
     ]
    }
   ],
   "source": [
    "df[\"Enclave\"] = df[\"Enclave\"].str.title()"
   ]
  },
  {
   "cell_type": "code",
   "execution_count": 196,
   "id": "c8974711-6894-44b1-8ec7-76bc4eb61e66",
   "metadata": {},
   "outputs": [
    {
     "name": "stderr",
     "output_type": "stream",
     "text": [
      "C:\\Users\\Eigenaar\\AppData\\Local\\Temp\\ipykernel_19088\\967876523.py:1: SettingWithCopyWarning: \n",
      "A value is trying to be set on a copy of a slice from a DataFrame.\n",
      "Try using .loc[row_indexer,col_indexer] = value instead\n",
      "\n",
      "See the caveats in the documentation: https://pandas.pydata.org/pandas-docs/stable/user_guide/indexing.html#returning-a-view-versus-a-copy\n",
      "  df['Enclave'] = df['Enclave'].str.rstrip('s')\n"
     ]
    }
   ],
   "source": [
    "df['Enclave'] = df['Enclave'].str.rstrip('s')"
   ]
  },
  {
   "cell_type": "code",
   "execution_count": 198,
   "id": "99ebd0b4-09dd-4c1a-b37f-7973d3d010ab",
   "metadata": {},
   "outputs": [
    {
     "data": {
      "text/plain": [
       "array(['Brightforge', 'Cloudrest', 'Crystalhollow', 'Dragonspire',\n",
       "       'Dreamweaver', 'Duskwood', 'Emberfall', 'Glimmerwood', 'Moonglade',\n",
       "       'Mossheart', 'Mystvale', 'Nighthaven', 'Oakenshade', 'Petalbridge',\n",
       "       'Ravenstone', 'Riverbend', 'Shadowmere', 'Silverglen', 'Starfall',\n",
       "       'Stormhold', 'Stormwatch', 'Sunspire', 'Thornfield', 'Verdantia',\n",
       "       'Windwhisper', 'Wolfsbane', 'Wyverncliff'], dtype=object)"
      ]
     },
     "execution_count": 198,
     "metadata": {},
     "output_type": "execute_result"
    }
   ],
   "source": [
    "df['Enclave'].sort_values().unique()"
   ]
  },
  {
   "cell_type": "markdown",
   "id": "31921f1a-ada2-44a9-a5e9-ed0b0f56852d",
   "metadata": {},
   "source": [
    "Here, all the duplicated"
   ]
  },
  {
   "cell_type": "markdown",
   "id": "2a95cc22-8872-414c-9e9d-8ba2a6ff98b1",
   "metadata": {},
   "source": [
    "### 2.5 Removing duplicates from dataset."
   ]
  },
  {
   "cell_type": "code",
   "execution_count": 201,
   "id": "2d462a89-ca89-4dd5-9045-c30a736b3a5d",
   "metadata": {},
   "outputs": [],
   "source": [
    "df = df.drop_duplicates()"
   ]
  },
  {
   "cell_type": "code",
   "execution_count": 203,
   "id": "810d48b2-21ed-418e-a896-583844d5f214",
   "metadata": {},
   "outputs": [
    {
     "data": {
      "text/plain": [
       "0"
      ]
     },
     "execution_count": 203,
     "metadata": {},
     "output_type": "execute_result"
    }
   ],
   "source": [
    "df.duplicated().sum()"
   ]
  },
  {
   "cell_type": "markdown",
   "id": "245a4e00-90b6-4749-a56d-f77fd9053aef",
   "metadata": {},
   "source": [
    "### 2.6 Adjusting the Not a Number values in LivingQuarters. "
   ]
  },
  {
   "cell_type": "markdown",
   "id": "21a781aa-06a4-4dcd-bc55-5864ae1a9450",
   "metadata": {},
   "source": [
    "We are replacing the LivingQuarter values that are currently NAN with the median. Below you can see a check that the rest of the values in these rows are very logical, meaning that this adjustment is the better option rather than discarding all the rows with NAN values. "
   ]
  },
  {
   "cell_type": "code",
   "execution_count": 206,
   "id": "06e2ba7a-0791-4ff1-8396-01d4ed43a16b",
   "metadata": {},
   "outputs": [
    {
     "data": {
      "text/html": [
       "<div>\n",
       "<style scoped>\n",
       "    .dataframe tbody tr th:only-of-type {\n",
       "        vertical-align: middle;\n",
       "    }\n",
       "\n",
       "    .dataframe tbody tr th {\n",
       "        vertical-align: top;\n",
       "    }\n",
       "\n",
       "    .dataframe thead th {\n",
       "        text-align: right;\n",
       "    }\n",
       "</style>\n",
       "<table border=\"1\" class=\"dataframe\">\n",
       "  <thead>\n",
       "    <tr style=\"text-align: right;\">\n",
       "      <th></th>\n",
       "      <th>DI</th>\n",
       "      <th>TradeValue</th>\n",
       "      <th>RealmType</th>\n",
       "      <th>Enclave</th>\n",
       "      <th>LivingQuarters</th>\n",
       "      <th>ParcelSize</th>\n",
       "      <th>ParcelSizeUnit</th>\n",
       "    </tr>\n",
       "  </thead>\n",
       "  <tbody>\n",
       "    <tr>\n",
       "      <th>899</th>\n",
       "      <td>891</td>\n",
       "      <td>315500.0</td>\n",
       "      <td>Meadowlands</td>\n",
       "      <td>Ravenstone</td>\n",
       "      <td>NaN</td>\n",
       "      <td>12898.0</td>\n",
       "      <td>sqft</td>\n",
       "    </tr>\n",
       "    <tr>\n",
       "      <th>1250</th>\n",
       "      <td>1239</td>\n",
       "      <td>164990.0</td>\n",
       "      <td>Meadowlands</td>\n",
       "      <td>Sunspire</td>\n",
       "      <td>NaN</td>\n",
       "      <td>8767.0</td>\n",
       "      <td>sqft</td>\n",
       "    </tr>\n",
       "    <tr>\n",
       "      <th>1206</th>\n",
       "      <td>1195</td>\n",
       "      <td>67000.0</td>\n",
       "      <td>GnomeBurough</td>\n",
       "      <td>Mystvale</td>\n",
       "      <td>NaN</td>\n",
       "      <td>8967.0</td>\n",
       "      <td>sqft</td>\n",
       "    </tr>\n",
       "    <tr>\n",
       "      <th>1327</th>\n",
       "      <td>1315</td>\n",
       "      <td>360000.0</td>\n",
       "      <td>Meadowlands</td>\n",
       "      <td>Silverglen</td>\n",
       "      <td>NaN</td>\n",
       "      <td>11578.0</td>\n",
       "      <td>sqft</td>\n",
       "    </tr>\n",
       "    <tr>\n",
       "      <th>1695</th>\n",
       "      <td>1679</td>\n",
       "      <td>212000.0</td>\n",
       "      <td>Meadowlands</td>\n",
       "      <td>Riverbend</td>\n",
       "      <td>NaN</td>\n",
       "      <td>6820.0</td>\n",
       "      <td>sqft</td>\n",
       "    </tr>\n",
       "    <tr>\n",
       "      <th>469</th>\n",
       "      <td>466</td>\n",
       "      <td>155000.0</td>\n",
       "      <td>Meadowlands</td>\n",
       "      <td>Dragonspire</td>\n",
       "      <td>NaN</td>\n",
       "      <td>10170.0</td>\n",
       "      <td>sqft</td>\n",
       "    </tr>\n",
       "    <tr>\n",
       "      <th>420</th>\n",
       "      <td>417</td>\n",
       "      <td>180000.0</td>\n",
       "      <td>Meadowlands</td>\n",
       "      <td>Duskwood</td>\n",
       "      <td>NaN</td>\n",
       "      <td>7875.0</td>\n",
       "      <td>sqft</td>\n",
       "    </tr>\n",
       "    <tr>\n",
       "      <th>754</th>\n",
       "      <td>746</td>\n",
       "      <td>166000.0</td>\n",
       "      <td>AetherIsles</td>\n",
       "      <td>Wyverncliff</td>\n",
       "      <td>NaN</td>\n",
       "      <td>3523.0</td>\n",
       "      <td>sqft</td>\n",
       "    </tr>\n",
       "    <tr>\n",
       "      <th>1517</th>\n",
       "      <td>1502</td>\n",
       "      <td>112000.0</td>\n",
       "      <td>Meadowlands</td>\n",
       "      <td>Petalbridge</td>\n",
       "      <td>NaN</td>\n",
       "      <td>7000.0</td>\n",
       "      <td>sqft</td>\n",
       "    </tr>\n",
       "    <tr>\n",
       "      <th>2287</th>\n",
       "      <td>2265</td>\n",
       "      <td>85000.0</td>\n",
       "      <td>GnomeBurough</td>\n",
       "      <td>Petalbridge</td>\n",
       "      <td>NaN</td>\n",
       "      <td>7200.0</td>\n",
       "      <td>sqft</td>\n",
       "    </tr>\n",
       "    <tr>\n",
       "      <th>1613</th>\n",
       "      <td>1597</td>\n",
       "      <td>202500.0</td>\n",
       "      <td>Meadowlands</td>\n",
       "      <td>Nighthaven</td>\n",
       "      <td>NaN</td>\n",
       "      <td>14145.0</td>\n",
       "      <td>sqft</td>\n",
       "    </tr>\n",
       "    <tr>\n",
       "      <th>1620</th>\n",
       "      <td>1604</td>\n",
       "      <td>125200.0</td>\n",
       "      <td>Meadowlands</td>\n",
       "      <td>Shadowmere</td>\n",
       "      <td>NaN</td>\n",
       "      <td>6305.0</td>\n",
       "      <td>sqft</td>\n",
       "    </tr>\n",
       "    <tr>\n",
       "      <th>1520</th>\n",
       "      <td>1505</td>\n",
       "      <td>99900.0</td>\n",
       "      <td>Meadowlands</td>\n",
       "      <td>Shadowmere</td>\n",
       "      <td>NaN</td>\n",
       "      <td>4060.0</td>\n",
       "      <td>sqft</td>\n",
       "    </tr>\n",
       "    <tr>\n",
       "      <th>1486</th>\n",
       "      <td>1471</td>\n",
       "      <td>192000.0</td>\n",
       "      <td>Meadowlands</td>\n",
       "      <td>Sunspire</td>\n",
       "      <td>NaN</td>\n",
       "      <td>8749.0</td>\n",
       "      <td>sqft</td>\n",
       "    </tr>\n",
       "    <tr>\n",
       "      <th>1890</th>\n",
       "      <td>1871</td>\n",
       "      <td>50138.0</td>\n",
       "      <td>ArcaneMarket</td>\n",
       "      <td>Mystvale</td>\n",
       "      <td>NaN</td>\n",
       "      <td>8712.0</td>\n",
       "      <td>sqft</td>\n",
       "    </tr>\n",
       "    <tr>\n",
       "      <th>1108</th>\n",
       "      <td>1098</td>\n",
       "      <td>200000.0</td>\n",
       "      <td>Meadowlands</td>\n",
       "      <td>Silverglen</td>\n",
       "      <td>NaN</td>\n",
       "      <td>3903.0</td>\n",
       "      <td>sqft</td>\n",
       "    </tr>\n",
       "    <tr>\n",
       "      <th>77</th>\n",
       "      <td>76</td>\n",
       "      <td>153000.0</td>\n",
       "      <td>Meadowlands</td>\n",
       "      <td>Dragonspire</td>\n",
       "      <td>NaN</td>\n",
       "      <td>11332.0</td>\n",
       "      <td>sqft</td>\n",
       "    </tr>\n",
       "    <tr>\n",
       "      <th>1802</th>\n",
       "      <td>1784</td>\n",
       "      <td>340000.0</td>\n",
       "      <td>Meadowlands</td>\n",
       "      <td>Glimmerwood</td>\n",
       "      <td>NaN</td>\n",
       "      <td>16545.0</td>\n",
       "      <td>sqft</td>\n",
       "    </tr>\n",
       "    <tr>\n",
       "      <th>1086</th>\n",
       "      <td>1076</td>\n",
       "      <td>119000.0</td>\n",
       "      <td>Meadowlands</td>\n",
       "      <td>Shadowmere</td>\n",
       "      <td>NaN</td>\n",
       "      <td>8405.0</td>\n",
       "      <td>sqft</td>\n",
       "    </tr>\n",
       "    <tr>\n",
       "      <th>118</th>\n",
       "      <td>117</td>\n",
       "      <td>315000.0</td>\n",
       "      <td>Meadowlands</td>\n",
       "      <td>Ravenstone</td>\n",
       "      <td>NaN</td>\n",
       "      <td>14601.0</td>\n",
       "      <td>sqft</td>\n",
       "    </tr>\n",
       "    <tr>\n",
       "      <th>1468</th>\n",
       "      <td>1453</td>\n",
       "      <td>356383.0</td>\n",
       "      <td>Meadowlands</td>\n",
       "      <td>Riverbend</td>\n",
       "      <td>NaN</td>\n",
       "      <td>12292.0</td>\n",
       "      <td>sqft</td>\n",
       "    </tr>\n",
       "    <tr>\n",
       "      <th>919</th>\n",
       "      <td>911</td>\n",
       "      <td>170000.0</td>\n",
       "      <td>Meadowlands</td>\n",
       "      <td>Duskwood</td>\n",
       "      <td>NaN</td>\n",
       "      <td>13041.0</td>\n",
       "      <td>sqft</td>\n",
       "    </tr>\n",
       "    <tr>\n",
       "      <th>453</th>\n",
       "      <td>450</td>\n",
       "      <td>287602.0</td>\n",
       "      <td>Meadowlands</td>\n",
       "      <td>Duskwood</td>\n",
       "      <td>NaN</td>\n",
       "      <td>12104.0</td>\n",
       "      <td>sqft</td>\n",
       "    </tr>\n",
       "    <tr>\n",
       "      <th>491</th>\n",
       "      <td>488</td>\n",
       "      <td>118000.0</td>\n",
       "      <td>Meadowlands</td>\n",
       "      <td>Shadowmere</td>\n",
       "      <td>NaN</td>\n",
       "      <td>9405.0</td>\n",
       "      <td>sqft</td>\n",
       "    </tr>\n",
       "    <tr>\n",
       "      <th>2109</th>\n",
       "      <td>2089</td>\n",
       "      <td>384500.0</td>\n",
       "      <td>Meadowlands</td>\n",
       "      <td>Glimmerwood</td>\n",
       "      <td>NaN</td>\n",
       "      <td>12191.0</td>\n",
       "      <td>sqft</td>\n",
       "    </tr>\n",
       "    <tr>\n",
       "      <th>2100</th>\n",
       "      <td>2080</td>\n",
       "      <td>201000.0</td>\n",
       "      <td>Meadowlands</td>\n",
       "      <td>Brightforge</td>\n",
       "      <td>NaN</td>\n",
       "      <td>8462.0</td>\n",
       "      <td>sqft</td>\n",
       "    </tr>\n",
       "    <tr>\n",
       "      <th>1569</th>\n",
       "      <td>1554</td>\n",
       "      <td>119000.0</td>\n",
       "      <td>GnomeBurough</td>\n",
       "      <td>Stormwatch</td>\n",
       "      <td>NaN</td>\n",
       "      <td>6000.0</td>\n",
       "      <td>sqft</td>\n",
       "    </tr>\n",
       "    <tr>\n",
       "      <th>742</th>\n",
       "      <td>734</td>\n",
       "      <td>315000.0</td>\n",
       "      <td>Meadowlands</td>\n",
       "      <td>Thornfield</td>\n",
       "      <td>NaN</td>\n",
       "      <td>18044.0</td>\n",
       "      <td>sqft</td>\n",
       "    </tr>\n",
       "    <tr>\n",
       "      <th>447</th>\n",
       "      <td>444</td>\n",
       "      <td>130000.0</td>\n",
       "      <td>Meadowlands</td>\n",
       "      <td>Crystalhollow</td>\n",
       "      <td>NaN</td>\n",
       "      <td>6953.0</td>\n",
       "      <td>sqft</td>\n",
       "    </tr>\n",
       "    <tr>\n",
       "      <th>982</th>\n",
       "      <td>974</td>\n",
       "      <td>161900.0</td>\n",
       "      <td>Meadowlands</td>\n",
       "      <td>Stormhold</td>\n",
       "      <td>NaN</td>\n",
       "      <td>7804.0</td>\n",
       "      <td>sqft</td>\n",
       "    </tr>\n",
       "  </tbody>\n",
       "</table>\n",
       "</div>"
      ],
      "text/plain": [
       "        DI  TradeValue     RealmType        Enclave  LivingQuarters  \\\n",
       "899    891    315500.0   Meadowlands     Ravenstone             NaN   \n",
       "1250  1239    164990.0   Meadowlands       Sunspire             NaN   \n",
       "1206  1195     67000.0  GnomeBurough       Mystvale             NaN   \n",
       "1327  1315    360000.0   Meadowlands     Silverglen             NaN   \n",
       "1695  1679    212000.0   Meadowlands      Riverbend             NaN   \n",
       "469    466    155000.0   Meadowlands    Dragonspire             NaN   \n",
       "420    417    180000.0   Meadowlands       Duskwood             NaN   \n",
       "754    746    166000.0   AetherIsles    Wyverncliff             NaN   \n",
       "1517  1502    112000.0   Meadowlands    Petalbridge             NaN   \n",
       "2287  2265     85000.0  GnomeBurough    Petalbridge             NaN   \n",
       "1613  1597    202500.0   Meadowlands     Nighthaven             NaN   \n",
       "1620  1604    125200.0   Meadowlands     Shadowmere             NaN   \n",
       "1520  1505     99900.0   Meadowlands     Shadowmere             NaN   \n",
       "1486  1471    192000.0   Meadowlands       Sunspire             NaN   \n",
       "1890  1871     50138.0  ArcaneMarket       Mystvale             NaN   \n",
       "1108  1098    200000.0   Meadowlands     Silverglen             NaN   \n",
       "77      76    153000.0   Meadowlands    Dragonspire             NaN   \n",
       "1802  1784    340000.0   Meadowlands    Glimmerwood             NaN   \n",
       "1086  1076    119000.0   Meadowlands     Shadowmere             NaN   \n",
       "118    117    315000.0   Meadowlands     Ravenstone             NaN   \n",
       "1468  1453    356383.0   Meadowlands      Riverbend             NaN   \n",
       "919    911    170000.0   Meadowlands       Duskwood             NaN   \n",
       "453    450    287602.0   Meadowlands       Duskwood             NaN   \n",
       "491    488    118000.0   Meadowlands     Shadowmere             NaN   \n",
       "2109  2089    384500.0   Meadowlands    Glimmerwood             NaN   \n",
       "2100  2080    201000.0   Meadowlands    Brightforge             NaN   \n",
       "1569  1554    119000.0  GnomeBurough     Stormwatch             NaN   \n",
       "742    734    315000.0   Meadowlands     Thornfield             NaN   \n",
       "447    444    130000.0   Meadowlands  Crystalhollow             NaN   \n",
       "982    974    161900.0   Meadowlands      Stormhold             NaN   \n",
       "\n",
       "      ParcelSize ParcelSizeUnit  \n",
       "899      12898.0           sqft  \n",
       "1250      8767.0           sqft  \n",
       "1206      8967.0           sqft  \n",
       "1327     11578.0           sqft  \n",
       "1695      6820.0           sqft  \n",
       "469      10170.0           sqft  \n",
       "420       7875.0           sqft  \n",
       "754       3523.0           sqft  \n",
       "1517      7000.0           sqft  \n",
       "2287      7200.0           sqft  \n",
       "1613     14145.0           sqft  \n",
       "1620      6305.0           sqft  \n",
       "1520      4060.0           sqft  \n",
       "1486      8749.0           sqft  \n",
       "1890      8712.0           sqft  \n",
       "1108      3903.0           sqft  \n",
       "77       11332.0           sqft  \n",
       "1802     16545.0           sqft  \n",
       "1086      8405.0           sqft  \n",
       "118      14601.0           sqft  \n",
       "1468     12292.0           sqft  \n",
       "919      13041.0           sqft  \n",
       "453      12104.0           sqft  \n",
       "491       9405.0           sqft  \n",
       "2109     12191.0           sqft  \n",
       "2100      8462.0           sqft  \n",
       "1569      6000.0           sqft  \n",
       "742      18044.0           sqft  \n",
       "447       6953.0           sqft  \n",
       "982       7804.0           sqft  "
      ]
     },
     "execution_count": 206,
     "metadata": {},
     "output_type": "execute_result"
    }
   ],
   "source": [
    "df.loc[df['LivingQuarters'].isna()].sample(30)"
   ]
  },
  {
   "cell_type": "code",
   "execution_count": 209,
   "id": "7a283ab8-71cf-402e-9203-1d18a1645806",
   "metadata": {},
   "outputs": [],
   "source": [
    "df['LivingQuarters'] = df['LivingQuarters'].fillna(df['LivingQuarters'].median())"
   ]
  },
  {
   "cell_type": "markdown",
   "id": "cfef1ec1-ebe6-4099-8c2f-fc9683ceefcc",
   "metadata": {},
   "source": [
    "Below you can see our check to see if there are still NAN values in the dataset, which is not the case."
   ]
  },
  {
   "cell_type": "code",
   "execution_count": 211,
   "id": "c81d1d53-665a-4703-85fc-6f94d50a3a1f",
   "metadata": {},
   "outputs": [
    {
     "data": {
      "text/html": [
       "<div>\n",
       "<style scoped>\n",
       "    .dataframe tbody tr th:only-of-type {\n",
       "        vertical-align: middle;\n",
       "    }\n",
       "\n",
       "    .dataframe tbody tr th {\n",
       "        vertical-align: top;\n",
       "    }\n",
       "\n",
       "    .dataframe thead th {\n",
       "        text-align: right;\n",
       "    }\n",
       "</style>\n",
       "<table border=\"1\" class=\"dataframe\">\n",
       "  <thead>\n",
       "    <tr style=\"text-align: right;\">\n",
       "      <th></th>\n",
       "      <th>DI</th>\n",
       "      <th>TradeValue</th>\n",
       "      <th>RealmType</th>\n",
       "      <th>Enclave</th>\n",
       "      <th>LivingQuarters</th>\n",
       "      <th>ParcelSize</th>\n",
       "      <th>ParcelSizeUnit</th>\n",
       "    </tr>\n",
       "  </thead>\n",
       "  <tbody>\n",
       "  </tbody>\n",
       "</table>\n",
       "</div>"
      ],
      "text/plain": [
       "Empty DataFrame\n",
       "Columns: [DI, TradeValue, RealmType, Enclave, LivingQuarters, ParcelSize, ParcelSizeUnit]\n",
       "Index: []"
      ]
     },
     "execution_count": 211,
     "metadata": {},
     "output_type": "execute_result"
    }
   ],
   "source": [
    "df.loc[df['LivingQuarters'].isna()]"
   ]
  },
  {
   "cell_type": "code",
   "execution_count": 213,
   "id": "994fad40-28d6-4055-830e-0af33d9d9281",
   "metadata": {},
   "outputs": [
    {
     "data": {
      "text/plain": [
       "DI                         537\n",
       "TradeValue            140000.0\n",
       "RealmType         GnomeBurough\n",
       "Enclave            Petalbridge\n",
       "LivingQuarters          1115.0\n",
       "ParcelSize              5700.0\n",
       "ParcelSizeUnit            sqft\n",
       "Name: 543, dtype: object"
      ]
     },
     "execution_count": 213,
     "metadata": {},
     "output_type": "execute_result"
    }
   ],
   "source": [
    "df.loc[543]"
   ]
  },
  {
   "cell_type": "markdown",
   "id": "6fdd89fa-272d-402c-8adf-97df1ae79e28",
   "metadata": {},
   "source": [
    "## 3. Modelling"
   ]
  },
  {
   "cell_type": "markdown",
   "id": "f97f1be5-07f8-4dc7-b55b-ff5f57c9963f",
   "metadata": {},
   "source": [
    "### 3.1 Creating the Model"
   ]
  },
  {
   "cell_type": "code",
   "execution_count": 283,
   "id": "f0a505f7-018f-4f3f-a35a-ced6274ca40e",
   "metadata": {},
   "outputs": [],
   "source": [
    "features = df[['LivingQuarters', 'ParcelSize']]\n",
    "\n",
    "target = df['TradeValue']\n",
    "\n",
    "features_train, features_test, target_train, target_test = train_test_split(features, target, test_size=0.30, random_state=3)"
   ]
  },
  {
   "cell_type": "code",
   "execution_count": 285,
   "id": "4159b3bf-d093-4aad-ab97-5e47640304e7",
   "metadata": {},
   "outputs": [
    {
     "data": {
      "text/plain": [
       "LivingQuarters    1115.000000\n",
       "ParcelSize        9464.993388\n",
       "dtype: float64"
      ]
     },
     "execution_count": 285,
     "metadata": {},
     "output_type": "execute_result"
    }
   ],
   "source": [
    "features_train.median()"
   ]
  },
  {
   "cell_type": "code",
   "execution_count": 287,
   "id": "c6df26f6-842f-4a17-b586-0cebb41eb132",
   "metadata": {},
   "outputs": [
    {
     "data": {
      "text/plain": [
       "160500.0"
      ]
     },
     "execution_count": 287,
     "metadata": {},
     "output_type": "execute_result"
    }
   ],
   "source": [
    "target_train.median()"
   ]
  },
  {
   "cell_type": "code",
   "execution_count": 289,
   "id": "4ef70698-e40d-40d5-b705-7d8d56a9cb19",
   "metadata": {},
   "outputs": [],
   "source": [
    "value = target_train.median()\n",
    "\n",
    "pred_train = [value] * len(target_train)\n",
    "\n",
    "pred_test = [value] * len(target_test)"
   ]
  },
  {
   "cell_type": "code",
   "execution_count": 291,
   "id": "f9eef979-3a17-43e4-8e04-e3b2acdc1c86",
   "metadata": {},
   "outputs": [
    {
     "data": {
      "text/plain": [
       "1636"
      ]
     },
     "execution_count": 291,
     "metadata": {},
     "output_type": "execute_result"
    }
   ],
   "source": [
    "len(pred_train)"
   ]
  },
  {
   "cell_type": "markdown",
   "id": "1d297645-2cd1-4687-8d5e-f199f20056bb",
   "metadata": {},
   "source": [
    "### 3.2 Scatter plot for TradeValues"
   ]
  },
  {
   "cell_type": "markdown",
   "id": "24845279-621d-4130-9aa0-71bf40bfd093",
   "metadata": {},
   "source": [
    "Here you can see a scatter plot of the enclaves and the trade value. You can see that some enclaves are generally more expensive than others. "
   ]
  },
  {
   "cell_type": "code",
   "execution_count": 340,
   "id": "2b04a93b-e7dc-43e6-bbe0-0bf378771672",
   "metadata": {},
   "outputs": [
    {
     "data": {
      "image/png": "[encoded data removed]",
      "text/plain": [
       "<Figure size 640x480 with 1 Axes>"
      ]
     },
     "metadata": {},
     "output_type": "display_data"
    }
   ],
   "source": [
    "plt.scatter(df['Enclave'], df['TradeValue'], alpha=0.5)\n",
    "plt.title('All trade values')\n",
    "plt.xlabel('Enclaves')\n",
    "plt.xticks(rotation = 70, ha = 'right')\n",
    "plt.ylabel('Trade Value in gold coins')\n",
    "plt.show()"
   ]
  },
  {
   "cell_type": "markdown",
   "id": "f42e9348-1141-4c4d-b7fd-04d933b86877",
   "metadata": {},
   "source": [
    "Below you can see the scatter plot with the realm types and trade values, as you can see here some realms have a big range of trade values, while others are more within specific price ranges "
   ]
  },
  {
   "cell_type": "code",
   "execution_count": 348,
   "id": "fdf01811-7ec5-4acc-9a4a-c112a7abfc9a",
   "metadata": {},
   "outputs": [
    {
     "data": {
      "image/png": "[encoded data removed]",
      "text/plain": [
       "<Figure size 640x480 with 1 Axes>"
      ]
     },
     "metadata": {},
     "output_type": "display_data"
    }
   ],
   "source": [
    "plt.scatter(df['RealmType'], df['TradeValue'], alpha=0.5)\n",
    "plt.title('All trade values')\n",
    "plt.xlabel('Realm Type')\n",
    "plt.ylabel('Trade Value in gold coins')\n",
    "plt.show()"
   ]
  },
  {
   "cell_type": "markdown",
   "id": "cb7b04f7-d9ad-4c3a-ab68-7f2a920c5f6c",
   "metadata": {},
   "source": [
    "## 4. Evaluation"
   ]
  },
  {
   "cell_type": "markdown",
   "id": "c97c2c90-5d6a-4829-bb24-5c61dbee1834",
   "metadata": {},
   "source": [
    "### 4.1 Median Absolute Error"
   ]
  },
  {
   "cell_type": "code",
   "execution_count": 298,
   "id": "63633c57-8c50-4dea-826e-55cb0cc395e2",
   "metadata": {},
   "outputs": [
    {
     "name": "stdout",
     "output_type": "stream",
     "text": [
      "Median Absolute Error of train set: 37400.0\n",
      "Median Absolute Error of test set: 35150.0\n"
     ]
    }
   ],
   "source": [
    "print('Median Absolute Error of train set:', median_absolute_error(pred_train, target_train))\n",
    "print('Median Absolute Error of test set:', median_absolute_error(pred_test, target_test))"
   ]
  },
  {
   "cell_type": "markdown",
   "id": "56c3303d-02a2-46c9-a51e-97bcc52db5f5",
   "metadata": {},
   "source": [
    "### 4.2 Mean Absolute Error"
   ]
  },
  {
   "cell_type": "code",
   "execution_count": 300,
   "id": "f6f6107e-7018-4c88-81ea-739dd2d1d3e4",
   "metadata": {},
   "outputs": [],
   "source": [
    "value = target_train.mean()\n",
    "\n",
    "pred_train = [value] * len(target_train)\n",
    "\n",
    "pred_test = [value] * len(target_test)"
   ]
  },
  {
   "cell_type": "code",
   "execution_count": 302,
   "id": "8740b784-9815-440a-933d-1b213b7c7172",
   "metadata": {},
   "outputs": [
    {
     "name": "stdout",
     "output_type": "stream",
     "text": [
      "Mean Absolute Error of train set: 60036.98663177527\n",
      "Mean Absolute Error of test set: 55958.16913603466\n"
     ]
    }
   ],
   "source": [
    "print('Mean Absolute Error of train set:', mean_absolute_error(pred_train, target_train))\n",
    "print('Mean Absolute Error of test set:', mean_absolute_error(pred_test, target_test))"
   ]
  },
  {
   "cell_type": "markdown",
   "id": "d2762546-b654-4ae6-803a-e163b35b5081",
   "metadata": {},
   "source": [
    "### 4.3 Mean Sqared Error"
   ]
  },
  {
   "cell_type": "code",
   "execution_count": 304,
   "id": "2800348f-fa10-4108-be3a-58bec7818e6a",
   "metadata": {},
   "outputs": [],
   "source": [
    "value = target_train.mean()\n",
    "\n",
    "pred_train = [value] * len(target_train)\n",
    "\n",
    "pred_test = [value] * len(target_test)"
   ]
  },
  {
   "cell_type": "code",
   "execution_count": 306,
   "id": "c97496c4-3f54-4228-8e89-e075c641ef23",
   "metadata": {},
   "outputs": [
    {
     "name": "stdout",
     "output_type": "stream",
     "text": [
      "Mean Squared Error of train set: 6695488904.585629\n",
      "Mean Squared Error of test set: 5793072638.708292\n"
     ]
    }
   ],
   "source": [
    "print('Mean Squared Error of train set:', mean_squared_error(pred_train, target_train))\n",
    "print('Mean Squared Error of test set:', mean_squared_error(pred_test, target_test))"
   ]
  }
 ],
 "metadata": {
  "kernelspec": {
   "display_name": "Python [conda env:base] *",
   "language": "python",
   "name": "conda-base-py"
  },
  "language_info": {
   "codemirror_mode": {
    "name": "ipython",
    "version": 3
   },
   "file_extension": ".py",
   "mimetype": "text/x-python",
   "name": "python",
   "nbconvert_exporter": "python",
   "pygments_lexer": "ipython3",
   "version": "3.12.7"
  }
 },
 "nbformat": 4,
 "nbformat_minor": 5
}
